{
 "cells": [
  {
   "cell_type": "code",
   "execution_count": 1,
   "metadata": {
    "collapsed": false
   },
   "outputs": [],
   "source": [
    "%matplotlib inline"
   ]
  },
  {
   "cell_type": "markdown",
   "metadata": {},
   "source": [
    "## Load Data"
   ]
  },
  {
   "cell_type": "code",
   "execution_count": 2,
   "metadata": {
    "collapsed": false
   },
   "outputs": [],
   "source": [
    "# load data\n",
    "from surprise import Dataset, Reader\n",
    "def load_data(file_path):\n",
    "    reader = Reader(line_format='item rating user', sep=',',skip_lines=1) \n",
    "    return Dataset.load_from_file(file_path, reader=reader)\n",
    "       \n",
    "def load_folds_data(fold_file_paths):\n",
    "    reader = Reader(line_format='item rating user', sep=',',skip_lines=1) \n",
    "    return Dataset.load_from_folds(fold_file_paths, reader=reader)\n",
    "    \n",
    "train_data=load_data('../data/blending_train_surprise.csv')\n",
    "fold_data=load_folds_data([('../data/blending_train_surprise.csv', '../data/data_train_surprise.csv')])"
   ]
  },
  {
   "cell_type": "markdown",
   "metadata": {},
   "source": [
    "## Machine Learning Methods"
   ]
  },
  {
   "cell_type": "code",
   "execution_count": null,
   "metadata": {
    "collapsed": false
   },
   "outputs": [
    {
     "data": {
      "text/plain": [
       "\"\\n\\n# nepoch K   lr_all  reg_all  rmse \\n# 120    40  0.001   0.00005  0.9984\\n# 80     40  0.001   0.00005  0.9999 \\n# 80     40  0.01    0.00005  1.0105 \\n# 80     40  0.01    0.02     1.0058\\n# 80     40  0.01    0.2      1.0071 \\n# 40     40  0.001   0.2      1.0042\\n# 80     40  0.001   0.2      1.0043\\n# 120    40  0.001   0.2      1.0047\\n# 40    100  0.001   0.00005  1.0013     \\n# 80    100  0.001   0.0005   1.0017 \\n# 120    100  0.001   0.0005  1.0002 \\n# 120    100  0.001   0.005   \\n# 120    40  0.001   0.0005   1.0016 \\n# 120    40  0.001   0.00001  1.0032 \\n\\nalgo = SVD(n_factors=n_factors,n_epochs=n_epochs,lr_all=lr_all,reg_all=reg_all)\\nalgo.bsl_options['biased'] = biased\\n\\nparams = {'n_factors':12,'n_epochs':20,'lr_all':0.005,'reg_all':0.0359,'biased':True}\\nparams = {'n_factors':100,'n_epochs':20,'lr_all':0.005,'reg_all':0.0359,'biased':True}\\nalgo = SVD(n_factors=params['n_factors'],n_epochs=params['n_epochs'],lr_all=params['lr_all'],reg_all=params['reg_all'])\\n\""
      ]
     },
     "execution_count": 3,
     "metadata": {},
     "output_type": "execute_result"
    }
   ],
   "source": [
    "from surprise import SVD\n",
    "from surprise import KNNBasic\n",
    "from surprise import BaselineOnly\n",
    "\n",
    "#params = {'n_factors':12,'n_epochs':20,'lr_all':0.005,'reg_all':0.0359,'biased':True}\n",
    "#params = {'n_factors':100,'n_epochs':20,'lr_all':0.005,'reg_all':0.0359,'biased':True}\n",
    "def my_SVD(n_factors, n_epochs, lr_all, reg_all, biased):\n",
    "    algo = SVD(n_factors=n_factors,n_epochs=n_epochs,lr_all=lr_all,reg_all=reg_all)\n",
    "    algo.bsl_options['biased'] = biased\n",
    "    return algo\n",
    "\n",
    "\n",
    "def ALS_BaselineOnly():\n",
    "    bsl_options = {'method': 'als',\n",
    "               'n_epochs': 5,\n",
    "               'reg_u': 15,\n",
    "               'reg_i': 10\n",
    "               } #1.0004\n",
    "    return BaselineOnly(bsl_options=bsl_options)\n",
    "\n",
    "def SGD_BaselineOnly():\n",
    "    bsl_options = {'method': 'sgd',\n",
    "               'learning_rate': .005,\n",
    "               'reg':0.02\n",
    "                } #1.0021\n",
    "    return BaselineOnly(bsl_options=bsl_options)\n",
    "\n",
    "def KNNBasic_ALS_pearson():\n",
    "    bsl_options = {'method': 'als',\n",
    "               'n_epochs': 20,\n",
    "               } #1.0657\n",
    "    sim_options = {'name': 'pearson_baseline'}\n",
    "    return KNNBasic(bsl_options=bsl_options, sim_options=sim_options)\n",
    "\n",
    "def KNNBasic_pearson():\n",
    "    sim_options = {'name': 'pearson_baseline',\n",
    "               'shrinkage': 0  # no shrinkage\n",
    "               } #1.0700\n",
    "    return KNNBasic(sim_options=sim_options)\n",
    "\n",
    "\n",
    "'''\n",
    "\n",
    "# nepoch K   lr_all  reg_all  rmse \n",
    "# 120    40  0.001   0.00005  0.9984\n",
    "# 80     40  0.001   0.00005  0.9999 \n",
    "# 80     40  0.01    0.00005  1.0105 \n",
    "# 80     40  0.01    0.02     1.0058\n",
    "# 80     40  0.01    0.2      1.0071 \n",
    "# 40     40  0.001   0.2      1.0042\n",
    "# 80     40  0.001   0.2      1.0043\n",
    "# 120    40  0.001   0.2      1.0047\n",
    "# 40    100  0.001   0.00005  1.0013     \n",
    "# 80    100  0.001   0.0005   1.0017 \n",
    "# 120    100  0.001   0.0005  1.0002 \n",
    "# 120    100  0.001   0.005   \n",
    "# 120    40  0.001   0.0005   1.0016 \n",
    "# 120    40  0.001   0.00001  1.0032 \n",
    "\n",
    "algo = SVD(n_factors=n_factors,n_epochs=n_epochs,lr_all=lr_all,reg_all=reg_all)\n",
    "algo.bsl_options['biased'] = biased\n",
    "\n",
    "params = {'n_factors':12,'n_epochs':20,'lr_all':0.005,'reg_all':0.0359,'biased':True}\n",
    "params = {'n_factors':100,'n_epochs':20,'lr_all':0.005,'reg_all':0.0359,'biased':True}\n",
    "algo = SVD(n_factors=params['n_factors'],n_epochs=params['n_epochs'],lr_all=params['lr_all'],reg_all=params['reg_all'])\n",
    "'''\n"
   ]
  },
  {
   "cell_type": "markdown",
   "metadata": {},
   "source": [
    "## Cross Validation"
   ]
  },
  {
   "cell_type": "code",
   "execution_count": null,
   "metadata": {
    "collapsed": false
   },
   "outputs": [
    {
     "name": "stdout",
     "output_type": "stream",
     "text": [
      "Estimating biases using als...\n"
     ]
    }
   ],
   "source": [
    "# train algorithm.\n",
    "import numpy as np\n",
    "from surprise.evaluate import evaluate\n",
    "from surprise.accuracy import rmse\n",
    "from surprise.dump import dump\n",
    "\n",
    "    \n",
    "def cross_validation(algo, fold_data):\n",
    "    rmse_list = []\n",
    "    for trainset, testset in fold_data.folds():\n",
    "        algo.train(trainset)\n",
    "        prediction = algo.test(testset)\n",
    "        rmse_k = rmse(prediction, verbose=False)\n",
    "        rmse_list.append(rmse_k)\n",
    "        dump('../results/dump_algo', prediction, trainset, algo)\n",
    "    return np.mean(rmse_list), prediction\n",
    "\n",
    "\n",
    "algo=ALS_BaselineOnly()\n",
    "#fold_data=load_folds_data([('../data/blending_train_surprise.csv', '../data/data_train_surprise.csv')])\n",
    "train_data.split(n_folds=3)\n",
    "mean_rmse, prediction=cross_validation(algo, fold_data)\n",
    "print(\"mean_rmse.{}\",format(mean_rmse))\n",
    "#perf=evaluate(algo, train_data, measures=['rmse'], with_dump=False, dump_dir=None, verbose=1)"
   ]
  },
  {
   "cell_type": "markdown",
   "metadata": {},
   "source": [
    "## Find Best parameters of SVD"
   ]
  },
  {
   "cell_type": "code",
   "execution_count": null,
   "metadata": {
    "collapsed": false
   },
   "outputs": [],
   "source": [
    "def train_SVD():\n",
    "    \n",
    "    n_factors_range = np.array([10,15,20])#np.linspace(10,30,21)\n",
    "    reg_all_range = np.logspace(-1.9,-1,10)\n",
    "    n_epochs_range = np.arange(10,60,10)\n",
    "    lr_all=0.005\n",
    "    biased=True\n",
    "    \n",
    "    \n",
    "    results_path = '../results/SGD_surprise/'\n",
    "    rmses = np.empty((len(n_factors_range),len(reg_all_range), len(n_epochs_range)))\n",
    "    \n",
    "    for i,n_factors in enumerate(n_factors_range):\n",
    "        print('testing with n_factors={}'.format(n_factors))\n",
    "        for j,reg_all in enumerate(reg_all_range):\n",
    "            print('testing with reg_all={}'.format(reg_all))\n",
    "            for k,n_epochs in enumerate(n_epochs_range):\n",
    "                print('testing with n_epochs={}'.format(n_epochs))\n",
    "                algo=my_SVD(int(n_factors), n_epochs, lr_all, reg_all, biased)\n",
    "                rmses[i,j,k]=cross_validation(algo, train_data)\n",
    "                print('rmse={}'.format(rmses[i,j,k]))\n",
    "            results_name = 'rmse_{}_{}'.format(n_factors, reg_all)\n",
    "            np.savetxt(results_path + results_name + '.csv', rmses[i,j,:], delimiter=\",\")\n",
    "    return rmses\n",
    "\n",
    "rmses = train_SVD()"
   ]
  },
  {
   "cell_type": "markdown",
   "metadata": {},
   "source": [
    "## Save Submition\n"
   ]
  },
  {
   "cell_type": "code",
   "execution_count": null,
   "metadata": {
    "collapsed": true
   },
   "outputs": [],
   "source": [
    "import pickle\n",
    "import pandas as pd\n",
    "\n",
    "# create correct format\n",
    "def create_submission_dataframe(df_simple):\n",
    "    print('Raw: \\n',df_simple.head())\n",
    "    df_simple[\"Id\"] = \"r\" + df_simple[\"iid\"].map(str) + \"_c\" +df_simple[\"uid\"].map(str)\n",
    "    df_simple[\"Prediction\"] = df_simple[\"est\"].clip(0,5)\n",
    "    df_submission = df_simple.drop([\"iid\",\"uid\",\"est\",\"details\",\"rui\"],1)\n",
    "    print('Submission: \\n',df_submission.head()) \n",
    "    return df_submission\n",
    "\n",
    "def create_submition_csv(prediction, output_path):\n",
    "    dump_obj_svd = pickle.load(open(dump_file_path, 'rb'))\n",
    "    df_svd = pd.DataFrame(prediction, columns=['uid', 'iid', 'rui', 'est', 'details'])    \n",
    "    df_svd_submission = create_submission_dataframe(df_svd)\n",
    "    df_svd_submission.to_csv(output_path, columns=[\"Id\",\"Prediction\"],index=False)\n",
    "    print('Submission: \\n',df_svd_new.head())\n",
    "\n",
    "    "
   ]
  },
  {
   "cell_type": "markdown",
   "metadata": {},
   "source": [
    "## Run on whole data\n"
   ]
  },
  {
   "cell_type": "code",
   "execution_count": null,
   "metadata": {
    "collapsed": true
   },
   "outputs": [],
   "source": [
    "def run_and_save(algo, fold_files):\n",
    "    mean_rmse, prediction = cross_validation(algo, fold_data)\n",
    "    create_submition_csv(prediction, output_path)\n",
    "\n",
    "fold_files=[('../data/blending_train_surprise.csv', '../data/data_train_surprise.csv')]\n",
    "algo=ALS_BaselineOnly\n",
    "run_and_save(algo, fold_files)"
   ]
  },
  {
   "cell_type": "code",
   "execution_count": null,
   "metadata": {
    "collapsed": false
   },
   "outputs": [],
   "source": [
    "#print(rmses_clipped.shape)\n",
    "rmses_clipped = rmses\n",
    "results_path = '../results/SGD_surprise/'\n",
    "results_name = 'rmse_{}_{}_{}_{}'.format(n_epochs,lr_all,n_factors_range,reg_all_range)\n",
    "#np.save(results_path + results_name, rmses_clipped)\n",
    "#np.savetxt(results_path + results_name + '.csv', rmses_clipped, delimiter=\",\")\n",
    "#test_rmses_clipped = np.loadtxt(results_path + results_name + '.csv', delimiter =',')\n",
    "#assert np.isclose(test_rmses_clipped,rmses_clipped).all()\n",
    "name = '../results/SGD_surprise/rmses.npy'\n",
    "#rmses_clipped = np.load(name)\n",
    "\n",
    "print(rmses_clipped.shape)\n",
    "print(n_factors_range.shape)\n",
    "print(reg_all_range.shape)\n",
    "\n",
    "# Plot results\n",
    "import matplotlib.pyplot as plt\n",
    "\n",
    "num_n_factors = rmses_clipped.shape[0]\n",
    "num_reg_all = rmses_clipped.shape[1]\n",
    "\n",
    "plt.rc('text', usetex=True)\n",
    "plt.rc('font', family='verdana')\n",
    "\n",
    "for k,n_epochs in enumerate(n_epochs_range):\n",
    "    results_name = 'rmse_{}_{}_{}_{}'.format(n_epochs,lr_all,n_factors_range,reg_all_range)\n",
    "    fig = plt.figure()\n",
    "    for i in range(num_n_factors):\n",
    "        plt.semilogx(reg_all_range,rmses_clipped[i,:,k],label='$K$={}'.format(n_factors_range[i]))\n",
    "    plt.xlabel('$\\lambda$')\n",
    "    plt.ylabel('rmse')\n",
    "    plt.legend(bbox_to_anchor=(1.05, 1), loc=2, borderaxespad=0.)\n",
    "    plt.title('n epochs = {}'.format(n_epochs))\n",
    "    fig.savefig(results_path + 'lambda_' + results_name + '.png')\n",
    "\n",
    "    fig = plt.figure()\n",
    "    for i in range(num_reg_all):\n",
    "        plt.plot(n_factors_range,rmses_clipped[:,i,k],label='$\\lambda$={:1.4f}'.format(reg_all_range[i]))\n",
    "    plt.xlabel('$K$')\n",
    "    plt.ylabel('rmse')\n",
    "    plt.title('n epochs = {}'.format(n_epochs))\n",
    "    plt.legend(bbox_to_anchor=(1.05, 1), loc=2, borderaxespad=0.)\n",
    "    fig.savefig(results_path + 'K_' + results_name + '.png')\n",
    "#np.savetxt(results_path + results_name + '.csv', rmses_clipped, delimiter=\",\")\n",
    "#test_rmses_clipped = np.loadtxt(results_path + results_name + '.csv', delimiter =',')\n",
    "#assert np.isclose(test_rmses_clipped,rmses_clipped).all()"
   ]
  },
  {
   "cell_type": "markdown",
   "metadata": {},
   "source": [
    "##  Train on whole data"
   ]
  },
  {
   "cell_type": "code",
   "execution_count": null,
   "metadata": {
    "collapsed": true
   },
   "outputs": [],
   "source": [
    "# load data\n",
    "from surprise import Dataset, Reader\n",
    "fold_reader = Reader(line_format='item rating user', sep=',',skip_lines=1) \n",
    "# fold_files = [(train_set, test_set)]\n",
    "fold_files = [('../data/data_train_surprise.csv', '../data/sampleSubmission_surprise.csv')]\n",
    "fold_data = Dataset.load_from_folds(fold_files, reader=fold_reader)"
   ]
  },
  {
   "cell_type": "code",
   "execution_count": null,
   "metadata": {
    "collapsed": false
   },
   "outputs": [],
   "source": [
    "# train algorithm.\n",
    "from surprise import SVD\n",
    "from surprise.accuracy import rmse\n",
    "from surprise.dump import dump\n",
    "\n",
    "#algo = SVD(n_factors=params['n_factors'],n_epochs=params['n_epochs'],lr_all=params['lr_all'],reg_all=params['reg_all'])\n",
    "for (trainset, testset) in fold_data.folds():\n",
    "    print('training algo...')\n",
    "    algo.train(trainset)\n",
    "    print('testing algo...')\n",
    "    predictions = algo.test(testset)\n",
    "    #rmse(predictions)\n",
    "    dump('../results/dump_algo', predictions, trainset, algo)"
   ]
  },
  {
   "cell_type": "markdown",
   "metadata": {},
   "source": [
    "## Save submission"
   ]
  },
  {
   "cell_type": "code",
   "execution_count": null,
   "metadata": {
    "collapsed": false
   },
   "outputs": [],
   "source": [
    "# create correct format\n",
    "def create_submission_dataframe(df_simple):\n",
    "    #df_svd['err'] = abs(df_svd.est - df_svd.est.round())\n",
    "    #print(df_svd.where(df_svd['err']<0.001))\n",
    "    #if (df_svd['err']<0.001):\n",
    "        #df_svd['est'] = df_svd['est'].round()\n",
    "    #print(df_svd.where(df_svd['err']<0.001))\n",
    "    print('Raw: \\n',df_simple.head())\n",
    "    df_simple[\"Id\"] = \"r\" + df_simple[\"iid\"].map(str) + \"_c\" +df_simple[\"uid\"].map(str)\n",
    "    df_simple[\"Prediction\"] = df_simple[\"est\"].clip(0,5)\n",
    "    df_submission = df_simple.drop([\"iid\",\"uid\",\"est\",\"details\",\"rui\"],1)\n",
    "    print('Submission: \\n',df_submission.head()) \n",
    "    return df_submission"
   ]
  },
  {
   "cell_type": "code",
   "execution_count": null,
   "metadata": {
    "collapsed": false
   },
   "outputs": [],
   "source": [
    "import pickle\n",
    "import pandas as pd\n",
    "dump_obj_svd = pickle.load(open('../results/dump_SVD', 'rb'))\n",
    "df_svd = pd.DataFrame(dump_obj_svd['predictions'], columns=['uid', 'iid', 'rui', 'est', 'details'])    \n",
    "df_svd_submission = create_submission_dataframe(df_svd)\n",
    "\n",
    "# save submission\n",
    "output_path = '../results/submission_surprise.csv'\n",
    "df_svd_new.to_csv(output_path,columns=[\"Id\",\"Prediction\"],index=False)\n",
    "print('Submission: \\n',df_svd_new.head())"
   ]
  },
  {
   "cell_type": "code",
   "execution_count": null,
   "metadata": {
    "collapsed": false
   },
   "outputs": [],
   "source": [
    "## Save ratings matrix for all training entries\n",
    "from surprise import Dataset, Reader\n",
    "fold_reader = Reader(line_format='item rating user', sep=',',skip_lines=1) \n",
    "# fold_files = [(train_set, test_set)]\n",
    "fold_files = [('../data/blending_train_surprise.csv', '../data/data_train_surprise.csv')]\n",
    "fold_data = Dataset.load_from_folds(fold_files, reader=fold_reader)\n",
    "from surprise import SVD\n",
    "from surprise.accuracy import rmse\n",
    "from surprise.dump import dump\n",
    "for (trainset, testset) in fold_data.folds():\n",
    "    print('testing SVD on full dataset...')\n",
    "    predictions_svd = algo.test(testset)\n",
    "    print('rmse:',rmse(predictions_svd))\n",
    "import pandas as pd\n",
    "df_svd = pd.DataFrame(predictions, columns=['uid', 'iid', 'rui', 'est', 'details'])    \n",
    "\n",
    "df_submission = \n",
    "# save matrix\n",
    "output_path = '../results/submission_surprise_full.csv'\n",
    "df_submission.to_csv(output_path,columns=[\"Id\",\"Prediction\"],index=False)"
   ]
  },
  {
   "cell_type": "code",
   "execution_count": null,
   "metadata": {
    "collapsed": true
   },
   "outputs": [],
   "source": []
  }
 ],
 "metadata": {
  "anaconda-cloud": {},
  "kernelspec": {
   "display_name": "Python 2",
   "language": "python",
   "name": "python2"
  },
  "language_info": {
   "codemirror_mode": {
    "name": "ipython",
    "version": 2
   },
   "file_extension": ".py",
   "mimetype": "text/x-python",
   "name": "python",
   "nbconvert_exporter": "python",
   "pygments_lexer": "ipython2",
   "version": "2.7.12"
  }
 },
 "nbformat": 4,
 "nbformat_minor": 1
}
