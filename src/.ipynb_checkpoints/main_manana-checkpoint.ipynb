{
 "cells": [
  {
   "cell_type": "code",
   "execution_count": 16,
   "metadata": {
    "collapsed": false
   },
   "outputs": [
    {
     "ename": "ImportError",
     "evalue": "No module named 'sklearn.model_selection'",
     "output_type": "error",
     "traceback": [
      "\u001b[0;31m---------------------------------------------------------------------------\u001b[0m",
      "\u001b[0;31mImportError\u001b[0m                               Traceback (most recent call last)",
      "\u001b[0;32m<ipython-input-1-edc076361c24>\u001b[0m in \u001b[0;36m<module>\u001b[0;34m()\u001b[0m\n\u001b[1;32m      7\u001b[0m \u001b[0;32mimport\u001b[0m \u001b[0mscipy\u001b[0m\u001b[0;34m.\u001b[0m\u001b[0msparse\u001b[0m \u001b[0;32mas\u001b[0m \u001b[0msp\u001b[0m\u001b[0;34m\u001b[0m\u001b[0m\n\u001b[1;32m      8\u001b[0m \u001b[0;32mimport\u001b[0m \u001b[0mmatplotlib\u001b[0m\u001b[0;34m.\u001b[0m\u001b[0mpyplot\u001b[0m \u001b[0;32mas\u001b[0m \u001b[0mplt\u001b[0m\u001b[0;34m\u001b[0m\u001b[0m\n\u001b[0;32m----> 9\u001b[0;31m \u001b[0;32mimport\u001b[0m \u001b[0msklearn\u001b[0m\u001b[0;34m.\u001b[0m\u001b[0mmodel_selection\u001b[0m \u001b[0;32mas\u001b[0m \u001b[0mskm\u001b[0m\u001b[0;34m\u001b[0m\u001b[0m\n\u001b[0m\u001b[1;32m     10\u001b[0m \u001b[0mget_ipython\u001b[0m\u001b[0;34m(\u001b[0m\u001b[0;34m)\u001b[0m\u001b[0;34m.\u001b[0m\u001b[0mmagic\u001b[0m\u001b[0;34m(\u001b[0m\u001b[0;34m'load_ext autoreload'\u001b[0m\u001b[0;34m)\u001b[0m\u001b[0;34m\u001b[0m\u001b[0m\n\u001b[1;32m     11\u001b[0m \u001b[0mget_ipython\u001b[0m\u001b[0;34m(\u001b[0m\u001b[0;34m)\u001b[0m\u001b[0;34m.\u001b[0m\u001b[0mmagic\u001b[0m\u001b[0;34m(\u001b[0m\u001b[0;34m'autoreload 2'\u001b[0m\u001b[0;34m)\u001b[0m\u001b[0;34m\u001b[0m\u001b[0m\n",
      "\u001b[0;31mImportError\u001b[0m: No module named 'sklearn.model_selection'"
     ]
    }
   ],
   "source": [
    "# Useful starting lines\n",
    "%matplotlib inline\n",
    "\n",
    "import numpy as np\n",
    "import scipy\n",
    "import scipy.io\n",
    "import scipy.sparse as sp\n",
    "import matplotlib.pyplot as plt\n",
    "import sklearn.model_selection as skm\n",
    "%load_ext autoreload\n",
    "%autoreload 2"
   ]
  },
  {
   "cell_type": "markdown",
   "metadata": {},
   "source": [
    "## Load the Data and plot the number of ratings per movie and user"
   ]
  },
  {
   "cell_type": "code",
   "execution_count": null,
   "metadata": {
    "collapsed": false
   },
   "outputs": [],
   "source": [
    "from helpers import load_data, preprocess_data\n",
    "from plots import plot_raw_data\n",
    "\n",
    "\n",
    "path_dataset = \"../data/data_train.csv\"\n",
    "subset = [100, 101]\n",
    "#ratings = load_data(path_dataset, subset)\n",
    "ratings, data = load_data(path_dataset)\n",
    "print(\"shape of dataset:\",ratings.shape)\n",
    "#print(ratings)\n",
    "#print( ratings[0,9])\n",
    "#print( ratings[0:5,0:5])\n",
    "#ratings\n",
    "\n",
    "num_items_per_user, num_users_per_item = plot_raw_data(ratings)\n",
    "\n",
    "print(\"min # of items per user = {}, min # of users per item = {}.\".format(\n",
    "        min(num_items_per_user), min(num_users_per_item)))"
   ]
  },
  {
   "cell_type": "markdown",
   "metadata": {},
   "source": [
    "## Run to estimate model"
   ]
  },
  {
   "cell_type": "code",
   "execution_count": 43,
   "metadata": {
    "collapsed": false,
    "scrolled": true
   },
   "outputs": [
    {
     "name": "stderr",
     "output_type": "stream",
     "text": [
      "[autoreload of plots failed: Traceback (most recent call last):\n",
      "  File \"/usr/local/lib/python3.5/dist-packages/IPython/extensions/autoreload.py\", line 247, in check\n",
      "    superreload(m, reload, self.old_objects)\n",
      "  File \"/home/manana/Machine_Learning_Recommender_Systems/src/plots.py\", line 75\n",
      "    \n",
      "    ^\n",
      "SyntaxError: unexpected EOF while parsing\n",
      "]\n"
     ]
    },
    {
     "name": "stdout",
     "output_type": "stream",
     "text": [
      "splitting data\n",
      "Percentage of nz train data:  0.8998, percentage of nz test data:  0.1002\n",
      "generating item and user feature matrices\n",
      "iter: 0, RMSE on training set: 1.9115616543069462.\n",
      "iter: 0, RMSE on test set: 2.091750565057215.\n",
      "iter: 1, RMSE on training set: 0.9075503445706536.\n",
      "iter: 1, RMSE on test set: 1.4378892121765305.\n",
      "iter: 2, RMSE on training set: 0.6066410844679037.\n",
      "iter: 2, RMSE on test set: 1.3535310884088354.\n",
      "iter: 3, RMSE on training set: 0.4903986605787287.\n",
      "iter: 3, RMSE on test set: 1.2691156778535482.\n",
      "iter: 4, RMSE on training set: 0.4339290256469746.\n",
      "iter: 4, RMSE on test set: 1.2078307861088209.\n",
      "iter: 5, RMSE on training set: 0.40181750410418815.\n",
      "iter: 5, RMSE on test set: 1.1656331086971545.\n",
      "iter: 6, RMSE on training set: 0.38144635295449.\n",
      "iter: 6, RMSE on test set: 1.135892015685141.\n",
      "iter: 7, RMSE on training set: 0.3675266266860978.\n",
      "iter: 7, RMSE on test set: 1.114255538077308.\n",
      "iter: 8, RMSE on training set: 0.35750877935731773.\n",
      "iter: 8, RMSE on test set: 1.0980688448344564.\n",
      "iter: 9, RMSE on training set: 0.35001963680572873.\n",
      "iter: 9, RMSE on test set: 1.0856695206324363.\n",
      "iter: 10, RMSE on training set: 0.3442543501644589.\n",
      "iter: 10, RMSE on test set: 1.0759777692104262.\n",
      "iter: 11, RMSE on training set: 0.3397098759933866.\n",
      "iter: 11, RMSE on test set: 1.0682691045695416.\n",
      "iter: 12, RMSE on training set: 0.33605627417691625.\n",
      "iter: 12, RMSE on test set: 1.0620437590335459.\n",
      "iter: 13, RMSE on training set: 0.3330691817742132.\n",
      "iter: 13, RMSE on test set: 1.0569486067281448.\n",
      "iter: 14, RMSE on training set: 0.3305916546229314.\n",
      "iter: 14, RMSE on test set: 1.0527287955745228.\n",
      "iter: 15, RMSE on training set: 0.3285112569511074.\n",
      "iter: 15, RMSE on test set: 1.0491968366875861.\n",
      "iter: 16, RMSE on training set: 0.32674568992279923.\n",
      "iter: 16, RMSE on test set: 1.046212355890074.\n",
      "iter: 17, RMSE on training set: 0.3252335004070733.\n",
      "iter: 17, RMSE on test set: 1.0436685761957065.\n",
      "iter: 18, RMSE on training set: 0.32392794105338246.\n",
      "iter: 18, RMSE on test set: 1.041483141570778.\n",
      "iter: 19, RMSE on training set: 0.3227928393683417.\n",
      "iter: 19, RMSE on test set: 1.0395917746393613.\n",
      "iter: 20, RMSE on training set: 0.3217997717027626.\n",
      "iter: 20, RMSE on test set: 1.037943802560151.\n",
      "iter: 21, RMSE on training set: 0.32092609697264085.\n",
      "iter: 21, RMSE on test set: 1.0364989313354869.\n",
      "iter: 22, RMSE on training set: 0.32015356404067496.\n",
      "iter: 22, RMSE on test set: 1.0352248711714627.\n",
      "iter: 23, RMSE on training set: 0.3194673069598959.\n",
      "iter: 23, RMSE on test set: 1.0340955566545105.\n",
      "iter: 24, RMSE on training set: 0.31885510646260296.\n",
      "iter: 24, RMSE on test set: 1.0330897939128176.\n",
      "iter: 25, RMSE on training set: 0.3183068374654932.\n",
      "iter: 25, RMSE on test set: 1.032190222038804.\n",
      "iter: 26, RMSE on training set: 0.3178140491068987.\n",
      "iter: 26, RMSE on test set: 1.0313825106570578.\n",
      "iter: 27, RMSE on training set: 0.3173696411147493.\n",
      "iter: 27, RMSE on test set: 1.0306547376801838.\n",
      "iter: 28, RMSE on training set: 0.3169676115097849.\n",
      "iter: 28, RMSE on test set: 1.029996905891175.\n",
      "iter: 29, RMSE on training set: 0.3166028579915126.\n",
      "iter: 29, RMSE on test set: 1.029400566978441.\n",
      "iter: 30, RMSE on training set: 0.31627102025734544.\n",
      "iter: 30, RMSE on test set: 1.028858528774013.\n",
      "iter: 31, RMSE on training set: 0.3159683538652638.\n",
      "iter: 31, RMSE on test set: 1.0283646267607403.\n",
      "iter: 32, RMSE on training set: 0.31569162861243544.\n",
      "iter: 32, RMSE on test set: 1.027913545021231.\n",
      "iter: 33, RMSE on training set: 0.31543804610869297.\n",
      "iter: 33, RMSE on test set: 1.0275006750618363.\n",
      "iter: 34, RMSE on training set: 0.31520517247848234.\n",
      "iter: 34, RMSE on test set: 1.0271220035551782.\n",
      "iter: 35, RMSE on training set: 0.314990883064307.\n",
      "iter: 35, RMSE on test set: 1.0267740221395307.\n",
      "iter: 36, RMSE on training set: 0.31479331671219374.\n",
      "iter: 36, RMSE on test set: 1.0264536540746334.\n",
      "iter: 37, RMSE on training set: 0.3146108377591262.\n",
      "iter: 37, RMSE on test set: 1.0261581938525108.\n",
      "iter: 38, RMSE on training set: 0.31444200425315993.\n",
      "iter: 38, RMSE on test set: 1.0258852568611876.\n",
      "iter: 39, RMSE on training set: 0.31428554125115044.\n",
      "iter: 39, RMSE on test set: 1.0256327369514027.\n",
      "iter: 40, RMSE on training set: 0.3141403182806911.\n",
      "iter: 40, RMSE on test set: 1.0253987703145147.\n",
      "iter: 41, RMSE on training set: 0.3140053302379577.\n",
      "iter: 41, RMSE on test set: 1.0251817044876386.\n",
      "iter: 42, RMSE on training set: 0.31387968113779935.\n",
      "iter: 42, RMSE on test set: 1.0249800715940192.\n",
      "iter: 43, RMSE on training set: 0.3137625702426598.\n",
      "iter: 43, RMSE on test set: 1.0247925651374208.\n",
      "iter: 44, RMSE on training set: 0.3136532801857522.\n",
      "iter: 44, RMSE on test set: 1.0246180198185812.\n",
      "iter: 45, RMSE on training set: 0.31355116677232914.\n",
      "iter: 45, RMSE on test set: 1.0244553939479306.\n",
      "iter: 46, RMSE on training set: 0.31345565019770305.\n",
      "iter: 46, RMSE on test set: 1.0243037541082396.\n",
      "iter: 47, RMSE on training set: 0.31336620746603533.\n",
      "iter: 47, RMSE on test set: 1.0241622617756871.\n",
      "iter: 48, RMSE on training set: 0.31328236582856683.\n",
      "iter: 48, RMSE on test set: 1.0240301616535759.\n",
      "iter: 49, RMSE on training set: 0.3132036970898552.\n",
      "iter: 49, RMSE on test set: 1.023906771504436.\n",
      "iter: 50, RMSE on training set: 0.3131298126552212.\n",
      "iter: 50, RMSE on test set: 1.0237914732959226.\n",
      "iter: 51, RMSE on training set: 0.3130603592113181.\n",
      "iter: 51, RMSE on test set: 1.023683705496081.\n",
      "iter: 52, RMSE on training set: 0.3129950149501232.\n",
      "iter: 52, RMSE on test set: 1.023582956374785.\n",
      "iter: 53, RMSE on training set: 0.31293348625891393.\n",
      "iter: 53, RMSE on test set: 1.0234887581839283.\n",
      "Final RMSE on test data: 1.023582956374785.\n"
     ]
    },
    {
     "data": {
      "image/png": "[encoded data removed]",
      "text/plain": [
       "<matplotlib.figure.Figure at 0x7fadfc024eb8>"
      ]
     },
     "metadata": {},
     "output_type": "display_data"
    },
    {
     "name": "stdout",
     "output_type": "stream",
     "text": [
      "1.01567306874\n"
     ]
    }
   ],
   "source": [
    "import our_helpers as ohe\n",
    "import plots as pl\n",
    "\n",
    "#defining parameters\n",
    "\n",
    "lambda_ = 0.05\n",
    "K = 150\n",
    "stop_criterion = 1e-4\n",
    "\n",
    "\n",
    "print(\"splitting data\")\n",
    "valid_ratings, train, test = ohe.split_data(\n",
    "    ratings, num_items_per_user, num_users_per_item, min_num_ratings=0, p_test=0.1)\n",
    "np.random.seed(600)\n",
    "\n",
    "print(\"generating item and user feature matrices\")\n",
    "item_features, user_features, train_errors, test_errors = ohe.ALS(\n",
    "    train, test,K, lambda_, stop_criterion,  rng)\n",
    "\n",
    "#creating plot\n",
    "lambda_str = ('%f' % lambda_).rstrip('0')\n",
    "path = \"%s_%d_%d.jpg\"%(lambda_str, K, len(train_errors))\n",
    "pl.plot_train_test_errors(train_errors, test_errors, lambda_str , K , path, len(train_errors))\n",
    "\n",
    "#\n",
    "full_ratings = np.dot( item_features.transpose(), user_features)\n",
    "nz_rows, nz_cols = test.nonzero()\n",
    "nz_test = list( zip(nz_rows, nz_cols))\n",
    "\n",
    "full_ratings_b = ohe.bias_correction(full_ratings, ratings)\n",
    "print(compute_error2(test, full_ratings_b, nz_test) )\n"
   ]
  },
  {
   "cell_type": "code",
   "execution_count": 21,
   "metadata": {
    "collapsed": false
   },
   "outputs": [
    {
     "name": "stdout",
     "output_type": "stream",
     "text": [
      "2\n",
      "2\n",
      "8\n",
      "8\n"
     ]
    },
    {
     "data": {
      "image/png": "[encoded data removed]",
      "text/plain": [
       "<matplotlib.figure.Figure at 0x7f72a1c762b0>"
      ]
     },
     "metadata": {},
     "output_type": "display_data"
    }
   ],
   "source": [
    "print(len(errors))\n",
    "print(len(errors[0]))\n",
    "print(len(errors[1]))\n",
    "print(len(max(errors, key=len)))\n",
    "path = \"K%d/test_cv_rmse_l%d_nsp%d.jpg\"%(num_features, len(lambdas),n_splits )\n",
    "pl.plot_cv_errors(errors, lambdas, num_features, path)"
   ]
  },
  {
   "cell_type": "code",
   "execution_count": null,
   "metadata": {
    "collapsed": false,
    "scrolled": true
   },
   "outputs": [
    {
     "name": "stdout",
     "output_type": "stream",
     "text": [
      "number of different lambdas :  50\n",
      "1 / 50\n",
      "lambda  =  0.0001\n",
      "iter: 0, RMSE on training set: 0.9814955972744.\n",
      "iter: 0, RMSE on test set: 1.0036853950007463.\n",
      "iter: 1, RMSE on training set: 0.9806125685082554.\n",
      "iter: 1, RMSE on test set: 1.0028280236050253.\n",
      "iter: 2, RMSE on training set: 0.9806080324338043.\n",
      "iter: 2, RMSE on test set: 1.002819347587961.\n",
      "Final RMSE on test data: 1.0028280236050253.\n",
      "iter: 0, RMSE on training set: 0.9817765886838932.\n",
      "iter: 0, RMSE on test set: 1.0008576643119047.\n",
      "iter: 1, RMSE on training set: 0.9808833383254859.\n",
      "iter: 1, RMSE on test set: 1.000137099958044.\n",
      "iter: 2, RMSE on training set: 0.9808786861643276.\n",
      "iter: 2, RMSE on test set: 1.0001428847485931.\n",
      "Final RMSE on test data: 1.000137099958044.\n"
     ]
    }
   ],
   "source": [
    "import our_helpers as ohe\n",
    "import plots as pl\n",
    "\n",
    "#ohe.main(ratings)\n",
    "\n",
    "\n",
    "\n",
    "\"\"\"Alternating Least Squares (ALS) algorithm.\"\"\"\n",
    "# define parameters\n",
    "num_features = 10   # K in the lecture notes\n",
    "lambda_user = 0.3\n",
    "lambda_item = 0.3\n",
    "stop_criterion = 1e-4\n",
    "n_splits = 10\n",
    "\n",
    "    \n",
    "#initialization\n",
    "sratings = sp.lil_matrix(ratings)\n",
    "train_errors = []\n",
    "test_errors = []\n",
    "    \n",
    "lambdas = np.linspace( 0.0001, 1, 7)\n",
    "\n",
    "    \n",
    "print(\"number of different lambdas : \",len(lambdas))\n",
    "    \n",
    "# set seed\n",
    "np.random.seed(988)\n",
    "    \n",
    "    \n",
    "test_avg_cost, train_avg_cost , errors = ohe.cross_validation(\n",
    "sratings, n_splits, num_features, lambdas, stop_criterion)\n",
    "    \n",
    "#generating plot\n",
    "path = \"/K%d/l%d_nsp%d.jpg\"%(num_features, len(lambdas),n_splits )\n",
    "    \n",
    "pl.plot_cv_errors(errors, lambdas, num_features, path)\n",
    "    \n",
    "ind = np.argmin(test_avg_cost)\n",
    "print(\"smallest avg error: \",test_avg_cost[ind])\n",
    "    \n",
    "lambda_ = lambdas[ind]\n",
    "    \n",
    "    \n",
    "vl, train, test = ohe.split_data(ratings, num_items_per_user, num_users_per_item,0)\n",
    "    \n",
    "item_features , user_features , rmse_tr, rmse_te = ALS (\n",
    "train , test, num_features,lambda_[0], \n",
    "lambda_[1], stop_criterion,error_list, 250 )\n",
    "    \n",
    "ratings_full = np.dot(np.transpose(item_features),user_features)"
   ]
  },
  {
   "cell_type": "markdown",
   "metadata": {},
   "source": [
    "# Create Sumbmissions"
   ]
  },
  {
   "cell_type": "code",
   "execution_count": 15,
   "metadata": {
    "collapsed": false
   },
   "outputs": [
    {
     "name": "stdout",
     "output_type": "stream",
     "text": [
      "number of items: 10000, number of users: 1000\n"
     ]
    }
   ],
   "source": [
    "from our_helpers import create_submission\n",
    "path_output = \"submission.csv\"\n",
    "\n",
    "#create_submission(path_output, full_ratings_b)\n",
    "\n",
    "create_submission(path_output, X_filled_nnm_2 )"
   ]
  },
  {
   "cell_type": "markdown",
   "metadata": {},
   "source": [
    "# test ALT"
   ]
  },
  {
   "cell_type": "code",
   "execution_count": 13,
   "metadata": {
    "collapsed": false
   },
   "outputs": [
    {
     "name": "stdout",
     "output_type": "stream",
     "text": [
      "(10000, 1000)\n",
      "1.03818504741\n"
     ]
    }
   ],
   "source": [
    "print(X_filled_nnm_2.shape)\n",
    "error = ohe.compute_error2(test, X_filled_nnm_2, nz_test)\n",
    "print(error)"
   ]
  },
  {
   "cell_type": "code",
   "execution_count": 6,
   "metadata": {
    "collapsed": false
   },
   "outputs": [
    {
     "name": "stdout",
     "output_type": "stream",
     "text": [
      "(10000, 1000)\n",
      "[SoftImpute] Max Singular Value of X_init = 141.828063\n",
      "[SoftImpute] Iter 1: observed MAE=0.064029 rank=999\n",
      "[SoftImpute] Iter 2: observed MAE=0.064057 rank=999\n",
      "[SoftImpute] Iter 3: observed MAE=0.064076 rank=998\n",
      "[SoftImpute] Iter 4: observed MAE=0.064087 rank=995\n",
      "[SoftImpute] Iter 5: observed MAE=0.064087 rank=991\n",
      "[SoftImpute] Iter 6: observed MAE=0.064082 rank=988\n",
      "[SoftImpute] Iter 7: observed MAE=0.064070 rank=984\n",
      "[SoftImpute] Iter 8: observed MAE=0.064049 rank=978\n",
      "[SoftImpute] Iter 9: observed MAE=0.064015 rank=970\n",
      "[SoftImpute] Iter 10: observed MAE=0.063974 rank=964\n",
      "[SoftImpute] Iter 11: observed MAE=0.063930 rank=957\n",
      "[SoftImpute] Iter 12: observed MAE=0.063880 rank=949\n",
      "[SoftImpute] Iter 13: observed MAE=0.063818 rank=939\n",
      "[SoftImpute] Iter 14: observed MAE=0.063751 rank=932\n",
      "[SoftImpute] Iter 15: observed MAE=0.063686 rank=924\n",
      "[SoftImpute] Iter 16: observed MAE=0.063619 rank=916\n",
      "[SoftImpute] Iter 17: observed MAE=0.063544 rank=906\n",
      "[SoftImpute] Iter 18: observed MAE=0.063469 rank=899\n",
      "[SoftImpute] Iter 19: observed MAE=0.063394 rank=891\n",
      "[SoftImpute] Iter 20: observed MAE=0.063319 rank=882\n",
      "[SoftImpute] Iter 21: observed MAE=0.063244 rank=874\n",
      "[SoftImpute] Iter 22: observed MAE=0.063171 rank=867\n",
      "[SoftImpute] Iter 23: observed MAE=0.063099 rank=859\n",
      "[SoftImpute] Iter 24: observed MAE=0.063029 rank=853\n",
      "[SoftImpute] Iter 25: observed MAE=0.062960 rank=844\n",
      "[SoftImpute] Stopped after iteration 25 for lambda=2.836561\n",
      "1.02343583384\n"
     ]
    }
   ],
   "source": [
    "#scored 1.05\n",
    "import fancyimpute as fi\n",
    "import our_helpers as ohe\n",
    "\n",
    "valid_ratings, train, test,stest = ohe.split_data(\n",
    "    ratings, num_items_per_user, num_users_per_item, min_num_ratings=0, p_test=0.1,sparse= False)\n",
    "\n",
    "print(data.shape)\n",
    "nz_rows, nz_cols = stest.nonzero()\n",
    "nz_test = list( zip(nz_rows, nz_cols))\n",
    "train[train == 0 ] = 'nan'\n",
    "X_filled_nnm_1 = fi.SoftImpute().complete(train)\n",
    "error = ohe.compute_error2(test, X_filled_nnm_1, nz_test)\n",
    "print(error)"
   ]
  },
  {
   "cell_type": "code",
   "execution_count": 11,
   "metadata": {
    "collapsed": false,
    "scrolled": true
   },
   "outputs": [
    {
     "ename": "KeyboardInterrupt",
     "evalue": "",
     "output_type": "error",
     "traceback": [
      "\u001b[0;31m---------------------------------------------------------------------------\u001b[0m",
      "\u001b[0;31mKeyboardInterrupt\u001b[0m                         Traceback (most recent call last)",
      "\u001b[0;32m<ipython-input-11-4b8c51d37fe5>\u001b[0m in \u001b[0;36m<module>\u001b[0;34m()\u001b[0m\n\u001b[1;32m      2\u001b[0m \u001b[0;32mimport\u001b[0m \u001b[0mour_helpers\u001b[0m \u001b[0;32mas\u001b[0m \u001b[0mohe\u001b[0m\u001b[0;34m\u001b[0m\u001b[0m\n\u001b[1;32m      3\u001b[0m \u001b[0;34m\u001b[0m\u001b[0m\n\u001b[0;32m----> 4\u001b[0;31m \u001b[0mX_filled_nnm_2\u001b[0m \u001b[0;34m=\u001b[0m \u001b[0mfi\u001b[0m\u001b[0;34m.\u001b[0m\u001b[0mNuclearNormMinimization\u001b[0m\u001b[0;34m(\u001b[0m\u001b[0;34m)\u001b[0m\u001b[0;34m.\u001b[0m\u001b[0mcomplete\u001b[0m\u001b[0;34m(\u001b[0m\u001b[0mtrain\u001b[0m\u001b[0;34m)\u001b[0m\u001b[0;34m\u001b[0m\u001b[0m\n\u001b[0m\u001b[1;32m      5\u001b[0m \u001b[0merror\u001b[0m \u001b[0;34m=\u001b[0m \u001b[0mohe\u001b[0m\u001b[0;34m.\u001b[0m\u001b[0mcompute_error2\u001b[0m\u001b[0;34m(\u001b[0m\u001b[0mtest\u001b[0m\u001b[0;34m,\u001b[0m \u001b[0mX_filled_nnm\u001b[0m\u001b[0;34m,\u001b[0m \u001b[0mnz_test\u001b[0m\u001b[0;34m)\u001b[0m\u001b[0;34m\u001b[0m\u001b[0m\n\u001b[1;32m      6\u001b[0m \u001b[0mprint\u001b[0m\u001b[0;34m(\u001b[0m\u001b[0merror\u001b[0m\u001b[0;34m)\u001b[0m\u001b[0;34m\u001b[0m\u001b[0m\n",
      "\u001b[0;32m/usr/local/lib/python3.5/dist-packages/fancyimpute-0.0.4-py3.5.egg/fancyimpute/solver.py\u001b[0m in \u001b[0;36mcomplete\u001b[0;34m(self, X)\u001b[0m\n\u001b[1;32m    278\u001b[0m         \u001b[0mReturns\u001b[0m \u001b[0mcompleted\u001b[0m \u001b[0mmatrix\u001b[0m \u001b[0mwithout\u001b[0m \u001b[0many\u001b[0m \u001b[0mNaNs\u001b[0m\u001b[0;34m.\u001b[0m\u001b[0;34m\u001b[0m\u001b[0m\n\u001b[1;32m    279\u001b[0m         \"\"\"\n\u001b[0;32m--> 280\u001b[0;31m         \u001b[0mimputations\u001b[0m \u001b[0;34m=\u001b[0m \u001b[0mself\u001b[0m\u001b[0;34m.\u001b[0m\u001b[0mmultiple_imputations\u001b[0m\u001b[0;34m(\u001b[0m\u001b[0mX\u001b[0m\u001b[0;34m)\u001b[0m\u001b[0;34m\u001b[0m\u001b[0m\n\u001b[0m\u001b[1;32m    281\u001b[0m         \u001b[0;32mif\u001b[0m \u001b[0mlen\u001b[0m\u001b[0;34m(\u001b[0m\u001b[0mimputations\u001b[0m\u001b[0;34m)\u001b[0m \u001b[0;34m==\u001b[0m \u001b[0;36m1\u001b[0m\u001b[0;34m:\u001b[0m\u001b[0;34m\u001b[0m\u001b[0m\n\u001b[1;32m    282\u001b[0m             \u001b[0;32mreturn\u001b[0m \u001b[0mimputations\u001b[0m\u001b[0;34m[\u001b[0m\u001b[0;36m0\u001b[0m\u001b[0;34m]\u001b[0m\u001b[0;34m\u001b[0m\u001b[0m\n",
      "\u001b[0;32m/usr/local/lib/python3.5/dist-packages/fancyimpute-0.0.4-py3.5.egg/fancyimpute/solver.py\u001b[0m in \u001b[0;36mmultiple_imputations\u001b[0;34m(self, X)\u001b[0m\n\u001b[1;32m    270\u001b[0m         \u001b[0mGenerate\u001b[0m \u001b[0mmultiple\u001b[0m \u001b[0mimputations\u001b[0m \u001b[0mof\u001b[0m \u001b[0mthe\u001b[0m \u001b[0msame\u001b[0m \u001b[0mincomplete\u001b[0m \u001b[0mmatrix\u001b[0m\u001b[0;34m\u001b[0m\u001b[0m\n\u001b[1;32m    271\u001b[0m         \"\"\"\n\u001b[0;32m--> 272\u001b[0;31m         \u001b[0;32mreturn\u001b[0m \u001b[0;34m[\u001b[0m\u001b[0mself\u001b[0m\u001b[0;34m.\u001b[0m\u001b[0msingle_imputation\u001b[0m\u001b[0;34m(\u001b[0m\u001b[0mX\u001b[0m\u001b[0;34m)\u001b[0m \u001b[0;32mfor\u001b[0m \u001b[0m_\u001b[0m \u001b[0;32min\u001b[0m \u001b[0mrange\u001b[0m\u001b[0;34m(\u001b[0m\u001b[0mself\u001b[0m\u001b[0;34m.\u001b[0m\u001b[0mn_imputations\u001b[0m\u001b[0;34m)\u001b[0m\u001b[0;34m]\u001b[0m\u001b[0;34m\u001b[0m\u001b[0m\n\u001b[0m\u001b[1;32m    273\u001b[0m \u001b[0;34m\u001b[0m\u001b[0m\n\u001b[1;32m    274\u001b[0m     \u001b[0;32mdef\u001b[0m \u001b[0mcomplete\u001b[0m\u001b[0;34m(\u001b[0m\u001b[0mself\u001b[0m\u001b[0;34m,\u001b[0m \u001b[0mX\u001b[0m\u001b[0;34m)\u001b[0m\u001b[0;34m:\u001b[0m\u001b[0;34m\u001b[0m\u001b[0m\n",
      "\u001b[0;32m/usr/local/lib/python3.5/dist-packages/fancyimpute-0.0.4-py3.5.egg/fancyimpute/solver.py\u001b[0m in \u001b[0;36m<listcomp>\u001b[0;34m(.0)\u001b[0m\n\u001b[1;32m    270\u001b[0m         \u001b[0mGenerate\u001b[0m \u001b[0mmultiple\u001b[0m \u001b[0mimputations\u001b[0m \u001b[0mof\u001b[0m \u001b[0mthe\u001b[0m \u001b[0msame\u001b[0m \u001b[0mincomplete\u001b[0m \u001b[0mmatrix\u001b[0m\u001b[0;34m\u001b[0m\u001b[0m\n\u001b[1;32m    271\u001b[0m         \"\"\"\n\u001b[0;32m--> 272\u001b[0;31m         \u001b[0;32mreturn\u001b[0m \u001b[0;34m[\u001b[0m\u001b[0mself\u001b[0m\u001b[0;34m.\u001b[0m\u001b[0msingle_imputation\u001b[0m\u001b[0;34m(\u001b[0m\u001b[0mX\u001b[0m\u001b[0;34m)\u001b[0m \u001b[0;32mfor\u001b[0m \u001b[0m_\u001b[0m \u001b[0;32min\u001b[0m \u001b[0mrange\u001b[0m\u001b[0;34m(\u001b[0m\u001b[0mself\u001b[0m\u001b[0;34m.\u001b[0m\u001b[0mn_imputations\u001b[0m\u001b[0;34m)\u001b[0m\u001b[0;34m]\u001b[0m\u001b[0;34m\u001b[0m\u001b[0m\n\u001b[0m\u001b[1;32m    273\u001b[0m \u001b[0;34m\u001b[0m\u001b[0m\n\u001b[1;32m    274\u001b[0m     \u001b[0;32mdef\u001b[0m \u001b[0mcomplete\u001b[0m\u001b[0;34m(\u001b[0m\u001b[0mself\u001b[0m\u001b[0;34m,\u001b[0m \u001b[0mX\u001b[0m\u001b[0;34m)\u001b[0m\u001b[0;34m:\u001b[0m\u001b[0;34m\u001b[0m\u001b[0m\n",
      "\u001b[0;32m/usr/local/lib/python3.5/dist-packages/fancyimpute-0.0.4-py3.5.egg/fancyimpute/solver.py\u001b[0m in \u001b[0;36msingle_imputation\u001b[0;34m(self, X)\u001b[0m\n\u001b[1;32m    252\u001b[0m                     type(X_filled)))\n\u001b[1;32m    253\u001b[0m \u001b[0;34m\u001b[0m\u001b[0m\n\u001b[0;32m--> 254\u001b[0;31m         \u001b[0mX_result\u001b[0m \u001b[0;34m=\u001b[0m \u001b[0mself\u001b[0m\u001b[0;34m.\u001b[0m\u001b[0msolve\u001b[0m\u001b[0;34m(\u001b[0m\u001b[0mX_filled\u001b[0m\u001b[0;34m,\u001b[0m \u001b[0mmissing_mask\u001b[0m\u001b[0;34m)\u001b[0m\u001b[0;34m\u001b[0m\u001b[0m\n\u001b[0m\u001b[1;32m    255\u001b[0m         \u001b[0;32mif\u001b[0m \u001b[0;32mnot\u001b[0m \u001b[0misinstance\u001b[0m\u001b[0;34m(\u001b[0m\u001b[0mX_result\u001b[0m\u001b[0;34m,\u001b[0m \u001b[0mnp\u001b[0m\u001b[0;34m.\u001b[0m\u001b[0mndarray\u001b[0m\u001b[0;34m)\u001b[0m\u001b[0;34m:\u001b[0m\u001b[0;34m\u001b[0m\u001b[0m\n\u001b[1;32m    256\u001b[0m             raise TypeError(\n",
      "\u001b[0;32m/usr/local/lib/python3.5/dist-packages/fancyimpute-0.0.4-py3.5.egg/fancyimpute/nuclear_norm_minimization.py\u001b[0m in \u001b[0;36msolve\u001b[0;34m(self, X, missing_mask)\u001b[0m\n\u001b[1;32m    100\u001b[0m             \u001b[0mverbose\u001b[0m\u001b[0;34m=\u001b[0m\u001b[0mself\u001b[0m\u001b[0;34m.\u001b[0m\u001b[0mverbose\u001b[0m\u001b[0;34m,\u001b[0m\u001b[0;34m\u001b[0m\u001b[0m\n\u001b[1;32m    101\u001b[0m             \u001b[0;31m# SCS solver is known to be faster but less exact\u001b[0m\u001b[0;34m\u001b[0m\u001b[0;34m\u001b[0m\u001b[0m\n\u001b[0;32m--> 102\u001b[0;31m             solver=cvxpy.SCS if self.fast_but_approximate else None)\n\u001b[0m\u001b[1;32m    103\u001b[0m         \u001b[0;32mreturn\u001b[0m \u001b[0mS\u001b[0m\u001b[0;34m.\u001b[0m\u001b[0mvalue\u001b[0m\u001b[0;34m\u001b[0m\u001b[0m\n",
      "\u001b[0;32m/usr/local/lib/python3.5/dist-packages/cvxpy-0.4.8-py3.5.egg/cvxpy/problems/problem.py\u001b[0m in \u001b[0;36msolve\u001b[0;34m(self, *args, **kwargs)\u001b[0m\n\u001b[1;32m    208\u001b[0m             \u001b[0;32mreturn\u001b[0m \u001b[0mfunc\u001b[0m\u001b[0;34m(\u001b[0m\u001b[0mself\u001b[0m\u001b[0;34m,\u001b[0m \u001b[0;34m*\u001b[0m\u001b[0margs\u001b[0m\u001b[0;34m,\u001b[0m \u001b[0;34m**\u001b[0m\u001b[0mkwargs\u001b[0m\u001b[0;34m)\u001b[0m\u001b[0;34m\u001b[0m\u001b[0m\n\u001b[1;32m    209\u001b[0m         \u001b[0;32melse\u001b[0m\u001b[0;34m:\u001b[0m\u001b[0;34m\u001b[0m\u001b[0m\n\u001b[0;32m--> 210\u001b[0;31m             \u001b[0;32mreturn\u001b[0m \u001b[0mself\u001b[0m\u001b[0;34m.\u001b[0m\u001b[0m_solve\u001b[0m\u001b[0;34m(\u001b[0m\u001b[0;34m*\u001b[0m\u001b[0margs\u001b[0m\u001b[0;34m,\u001b[0m \u001b[0;34m**\u001b[0m\u001b[0mkwargs\u001b[0m\u001b[0;34m)\u001b[0m\u001b[0;34m\u001b[0m\u001b[0m\n\u001b[0m\u001b[1;32m    211\u001b[0m \u001b[0;34m\u001b[0m\u001b[0m\n\u001b[1;32m    212\u001b[0m     \u001b[0;34m@\u001b[0m\u001b[0mclassmethod\u001b[0m\u001b[0;34m\u001b[0m\u001b[0m\n",
      "\u001b[0;32m/usr/local/lib/python3.5/dist-packages/cvxpy-0.4.8-py3.5.egg/cvxpy/problems/problem.py\u001b[0m in \u001b[0;36m_solve\u001b[0;34m(self, solver, ignore_dcp, warm_start, verbose, parallel, **kwargs)\u001b[0m\n\u001b[1;32m    330\u001b[0m             results_dict = solver.solve(objective, constraints,\n\u001b[1;32m    331\u001b[0m                                         \u001b[0mself\u001b[0m\u001b[0;34m.\u001b[0m\u001b[0m_cached_data\u001b[0m\u001b[0;34m,\u001b[0m \u001b[0mwarm_start\u001b[0m\u001b[0;34m,\u001b[0m \u001b[0mverbose\u001b[0m\u001b[0;34m,\u001b[0m\u001b[0;34m\u001b[0m\u001b[0m\n\u001b[0;32m--> 332\u001b[0;31m                                         kwargs)\n\u001b[0m\u001b[1;32m    333\u001b[0m         \u001b[0;31m# Presolve determined problem was unbounded or infeasible.\u001b[0m\u001b[0;34m\u001b[0m\u001b[0;34m\u001b[0m\u001b[0m\n\u001b[1;32m    334\u001b[0m         \u001b[0;32melse\u001b[0m\u001b[0;34m:\u001b[0m\u001b[0;34m\u001b[0m\u001b[0m\n",
      "\u001b[0;32m/usr/local/lib/python3.5/dist-packages/cvxpy-0.4.8-py3.5.egg/cvxpy/problems/solvers/scs_intf.py\u001b[0m in \u001b[0;36msolve\u001b[0;34m(self, objective, constraints, cached_data, warm_start, verbose, solver_opts)\u001b[0m\n\u001b[1;32m     97\u001b[0m         data = self.get_problem_data(objective,\n\u001b[1;32m     98\u001b[0m                                      \u001b[0mconstraints\u001b[0m\u001b[0;34m,\u001b[0m\u001b[0;34m\u001b[0m\u001b[0m\n\u001b[0;32m---> 99\u001b[0;31m                                      cached_data)\n\u001b[0m\u001b[1;32m    100\u001b[0m         \u001b[0;31m# Set the options to be VERBOSE plus any user-specific options.\u001b[0m\u001b[0;34m\u001b[0m\u001b[0;34m\u001b[0m\u001b[0m\n\u001b[1;32m    101\u001b[0m         \u001b[0msolver_opts\u001b[0m\u001b[0;34m[\u001b[0m\u001b[0;34m\"verbose\"\u001b[0m\u001b[0;34m]\u001b[0m \u001b[0;34m=\u001b[0m \u001b[0mverbose\u001b[0m\u001b[0;34m\u001b[0m\u001b[0m\n",
      "\u001b[0;32m/usr/local/lib/python3.5/dist-packages/cvxpy-0.4.8-py3.5.egg/cvxpy/problems/solvers/solver.py\u001b[0m in \u001b[0;36mget_problem_data\u001b[0;34m(self, objective, constraints, cached_data)\u001b[0m\n\u001b[1;32m    227\u001b[0m         \u001b[0msym_data\u001b[0m \u001b[0;34m=\u001b[0m \u001b[0mself\u001b[0m\u001b[0;34m.\u001b[0m\u001b[0mget_sym_data\u001b[0m\u001b[0;34m(\u001b[0m\u001b[0mobjective\u001b[0m\u001b[0;34m,\u001b[0m \u001b[0mconstraints\u001b[0m\u001b[0;34m,\u001b[0m \u001b[0mcached_data\u001b[0m\u001b[0;34m)\u001b[0m\u001b[0;34m\u001b[0m\u001b[0m\n\u001b[1;32m    228\u001b[0m         matrix_data = self.get_matrix_data(objective, constraints,\n\u001b[0;32m--> 229\u001b[0;31m                                            cached_data)\n\u001b[0m\u001b[1;32m    230\u001b[0m         \u001b[0mdata\u001b[0m \u001b[0;34m=\u001b[0m \u001b[0;34m{\u001b[0m\u001b[0;34m}\u001b[0m\u001b[0;34m\u001b[0m\u001b[0m\n\u001b[1;32m    231\u001b[0m         \u001b[0mdata\u001b[0m\u001b[0;34m[\u001b[0m\u001b[0ms\u001b[0m\u001b[0;34m.\u001b[0m\u001b[0mC\u001b[0m\u001b[0;34m]\u001b[0m\u001b[0;34m,\u001b[0m \u001b[0mdata\u001b[0m\u001b[0;34m[\u001b[0m\u001b[0ms\u001b[0m\u001b[0;34m.\u001b[0m\u001b[0mOFFSET\u001b[0m\u001b[0;34m]\u001b[0m \u001b[0;34m=\u001b[0m \u001b[0mmatrix_data\u001b[0m\u001b[0;34m.\u001b[0m\u001b[0mget_objective\u001b[0m\u001b[0;34m(\u001b[0m\u001b[0;34m)\u001b[0m\u001b[0;34m\u001b[0m\u001b[0m\n",
      "\u001b[0;32m/usr/local/lib/python3.5/dist-packages/cvxpy-0.4.8-py3.5.egg/cvxpy/problems/solvers/solver.py\u001b[0m in \u001b[0;36mget_matrix_data\u001b[0;34m(self, objective, constraints, cached_data)\u001b[0m\n\u001b[1;32m    205\u001b[0m                                                \u001b[0mself\u001b[0m\u001b[0;34m.\u001b[0m\u001b[0mvec_intf\u001b[0m\u001b[0;34m(\u001b[0m\u001b[0;34m)\u001b[0m\u001b[0;34m,\u001b[0m\u001b[0;34m\u001b[0m\u001b[0m\n\u001b[1;32m    206\u001b[0m                                                \u001b[0mself\u001b[0m\u001b[0;34m,\u001b[0m\u001b[0;34m\u001b[0m\u001b[0m\n\u001b[0;32m--> 207\u001b[0;31m                                                self.nonlin_constr())\n\u001b[0m\u001b[1;32m    208\u001b[0m         \u001b[0;32mreturn\u001b[0m \u001b[0mprob_data\u001b[0m\u001b[0;34m.\u001b[0m\u001b[0mmatrix_data\u001b[0m\u001b[0;34m\u001b[0m\u001b[0m\n\u001b[1;32m    209\u001b[0m \u001b[0;34m\u001b[0m\u001b[0m\n",
      "\u001b[0;32m/usr/local/lib/python3.5/dist-packages/cvxpy-0.4.8-py3.5.egg/cvxpy/problems/problem_data/matrix_data.py\u001b[0m in \u001b[0;36m__init__\u001b[0;34m(self, sym_data, matrix_intf, vec_intf, solver, nonlin)\u001b[0m\n\u001b[1;32m     87\u001b[0m         self.eq_cache = self._init_matrix_cache(eq_constr,\n\u001b[1;32m     88\u001b[0m                                                 self.sym_data.x_length)\n\u001b[0;32m---> 89\u001b[0;31m         \u001b[0mself\u001b[0m\u001b[0;34m.\u001b[0m\u001b[0m_lin_matrix\u001b[0m\u001b[0;34m(\u001b[0m\u001b[0mself\u001b[0m\u001b[0;34m.\u001b[0m\u001b[0meq_cache\u001b[0m\u001b[0;34m,\u001b[0m \u001b[0mcaching\u001b[0m\u001b[0;34m=\u001b[0m\u001b[0;32mTrue\u001b[0m\u001b[0;34m)\u001b[0m\u001b[0;34m\u001b[0m\u001b[0m\n\u001b[0m\u001b[1;32m     90\u001b[0m         \u001b[0;31m# Inequality constraints.\u001b[0m\u001b[0;34m\u001b[0m\u001b[0;34m\u001b[0m\u001b[0m\n\u001b[1;32m     91\u001b[0m         self.ineq_cache = self._init_matrix_cache(ineq_constr,\n",
      "\u001b[0;32m/usr/local/lib/python3.5/dist-packages/cvxpy-0.4.8-py3.5.egg/cvxpy/problems/problem_data/matrix_data.py\u001b[0m in \u001b[0;36m_lin_matrix\u001b[0;34m(self, mat_cache, caching)\u001b[0m\n\u001b[1;32m    182\u001b[0m                 \u001b[0mactive_constr\u001b[0m\u001b[0;34m,\u001b[0m\u001b[0;34m\u001b[0m\u001b[0m\n\u001b[1;32m    183\u001b[0m                 \u001b[0mself\u001b[0m\u001b[0;34m.\u001b[0m\u001b[0msym_data\u001b[0m\u001b[0;34m.\u001b[0m\u001b[0mvar_offsets\u001b[0m\u001b[0;34m,\u001b[0m\u001b[0;34m\u001b[0m\u001b[0m\n\u001b[0;32m--> 184\u001b[0;31m                 \u001b[0mconstr_offsets\u001b[0m\u001b[0;34m\u001b[0m\u001b[0m\n\u001b[0m\u001b[1;32m    185\u001b[0m             )\n\u001b[1;32m    186\u001b[0m             \u001b[0;31m# Convert the constant offset to the correct data type.\u001b[0m\u001b[0;34m\u001b[0m\u001b[0;34m\u001b[0m\u001b[0m\n",
      "\u001b[0;32m/usr/local/lib/python3.5/dist-packages/CVXcanon-0.1.1-py3.5-linux-x86_64.egg/canonInterface.py\u001b[0m in \u001b[0;36mget_problem_matrix\u001b[0;34m(constrs, id_to_col, constr_offsets)\u001b[0m\n\u001b[1;32m     50\u001b[0m     \u001b[0mtmp\u001b[0m \u001b[0;34m=\u001b[0m \u001b[0;34m[\u001b[0m\u001b[0;34m]\u001b[0m\u001b[0;34m\u001b[0m\u001b[0m\n\u001b[1;32m     51\u001b[0m     \u001b[0;32mfor\u001b[0m \u001b[0mlin\u001b[0m \u001b[0;32min\u001b[0m \u001b[0mlinOps\u001b[0m\u001b[0;34m:\u001b[0m\u001b[0;34m\u001b[0m\u001b[0m\n\u001b[0;32m---> 52\u001b[0;31m         \u001b[0mtree\u001b[0m \u001b[0;34m=\u001b[0m \u001b[0mbuild_lin_op_tree\u001b[0m\u001b[0;34m(\u001b[0m\u001b[0mlin\u001b[0m\u001b[0;34m,\u001b[0m \u001b[0mtmp\u001b[0m\u001b[0;34m)\u001b[0m\u001b[0;34m\u001b[0m\u001b[0m\n\u001b[0m\u001b[1;32m     53\u001b[0m         \u001b[0mtmp\u001b[0m\u001b[0;34m.\u001b[0m\u001b[0mappend\u001b[0m\u001b[0;34m(\u001b[0m\u001b[0mtree\u001b[0m\u001b[0;34m)\u001b[0m\u001b[0;34m\u001b[0m\u001b[0m\n\u001b[1;32m     54\u001b[0m         \u001b[0mlin_vec\u001b[0m\u001b[0;34m.\u001b[0m\u001b[0mpush_back\u001b[0m\u001b[0;34m(\u001b[0m\u001b[0mtree\u001b[0m\u001b[0;34m)\u001b[0m\u001b[0;34m\u001b[0m\u001b[0m\n",
      "\u001b[0;32m/usr/local/lib/python3.5/dist-packages/CVXcanon-0.1.1-py3.5-linux-x86_64.egg/canonInterface.py\u001b[0m in \u001b[0;36mbuild_lin_op_tree\u001b[0;34m(root_linPy, tmp)\u001b[0m\n\u001b[1;32m    234\u001b[0m             \u001b[0mlinC\u001b[0m\u001b[0;34m.\u001b[0m\u001b[0mset_dense_data\u001b[0m\u001b[0;34m(\u001b[0m\u001b[0mformat_matrix\u001b[0m\u001b[0;34m(\u001b[0m\u001b[0mlinPy\u001b[0m\u001b[0;34m.\u001b[0m\u001b[0mdata\u001b[0m\u001b[0;34m.\u001b[0m\u001b[0mdata\u001b[0m\u001b[0;34m,\u001b[0m \u001b[0;34m'scalar'\u001b[0m\u001b[0;34m)\u001b[0m\u001b[0;34m)\u001b[0m\u001b[0;34m\u001b[0m\u001b[0m\n\u001b[1;32m    235\u001b[0m         \u001b[0;32melse\u001b[0m\u001b[0;34m:\u001b[0m\u001b[0;34m\u001b[0m\u001b[0m\n\u001b[0;32m--> 236\u001b[0;31m             \u001b[0mset_matrix_data\u001b[0m\u001b[0;34m(\u001b[0m\u001b[0mlinC\u001b[0m\u001b[0;34m,\u001b[0m \u001b[0mlinPy\u001b[0m\u001b[0;34m)\u001b[0m\u001b[0;34m\u001b[0m\u001b[0m\n\u001b[0m\u001b[1;32m    237\u001b[0m \u001b[0;34m\u001b[0m\u001b[0m\n\u001b[1;32m    238\u001b[0m     \u001b[0;32mreturn\u001b[0m \u001b[0mroot_linC\u001b[0m\u001b[0;34m\u001b[0m\u001b[0m\n",
      "\u001b[0;32m/usr/local/lib/python3.5/dist-packages/CVXcanon-0.1.1-py3.5-linux-x86_64.egg/canonInterface.py\u001b[0m in \u001b[0;36mset_matrix_data\u001b[0;34m(linC, linPy)\u001b[0m\n\u001b[1;32m     96\u001b[0m             \u001b[0mcoo\u001b[0m \u001b[0;34m=\u001b[0m \u001b[0mformat_matrix\u001b[0m\u001b[0;34m(\u001b[0m\u001b[0mlinPy\u001b[0m\u001b[0;34m.\u001b[0m\u001b[0mdata\u001b[0m\u001b[0;34m.\u001b[0m\u001b[0mdata\u001b[0m\u001b[0;34m,\u001b[0m \u001b[0;34m'sparse'\u001b[0m\u001b[0;34m)\u001b[0m\u001b[0;34m\u001b[0m\u001b[0m\n\u001b[1;32m     97\u001b[0m             linC.set_sparse_data(coo.data, coo.row.astype(float),\n\u001b[0;32m---> 98\u001b[0;31m                                  coo.col.astype(float), coo.shape[0], coo.shape[1])\n\u001b[0m\u001b[1;32m     99\u001b[0m         \u001b[0;32melif\u001b[0m \u001b[0mlinPy\u001b[0m\u001b[0;34m.\u001b[0m\u001b[0mdata\u001b[0m\u001b[0;34m.\u001b[0m\u001b[0mtype\u001b[0m \u001b[0;34m==\u001b[0m \u001b[0;34m'dense_const'\u001b[0m\u001b[0;34m:\u001b[0m\u001b[0;34m\u001b[0m\u001b[0m\n\u001b[1;32m    100\u001b[0m             \u001b[0mlinC\u001b[0m\u001b[0;34m.\u001b[0m\u001b[0mset_dense_data\u001b[0m\u001b[0;34m(\u001b[0m\u001b[0mformat_matrix\u001b[0m\u001b[0;34m(\u001b[0m\u001b[0mlinPy\u001b[0m\u001b[0;34m.\u001b[0m\u001b[0mdata\u001b[0m\u001b[0;34m.\u001b[0m\u001b[0mdata\u001b[0m\u001b[0;34m)\u001b[0m\u001b[0;34m)\u001b[0m\u001b[0;34m\u001b[0m\u001b[0m\n",
      "\u001b[0;32m/usr/local/lib/python3.5/dist-packages/CVXcanon-0.1.1-py3.5-linux-x86_64.egg/CVXcanon.py\u001b[0m in \u001b[0;36mset_sparse_data\u001b[0;34m(self, data, row_idxs, col_idxs, rows, cols)\u001b[0m\n\u001b[1;32m    276\u001b[0m \u001b[0;34m\u001b[0m\u001b[0m\n\u001b[1;32m    277\u001b[0m     \u001b[0;32mdef\u001b[0m \u001b[0mset_sparse_data\u001b[0m\u001b[0;34m(\u001b[0m\u001b[0mself\u001b[0m\u001b[0;34m,\u001b[0m \u001b[0mdata\u001b[0m\u001b[0;34m,\u001b[0m \u001b[0mrow_idxs\u001b[0m\u001b[0;34m,\u001b[0m \u001b[0mcol_idxs\u001b[0m\u001b[0;34m,\u001b[0m \u001b[0mrows\u001b[0m\u001b[0;34m,\u001b[0m \u001b[0mcols\u001b[0m\u001b[0;34m)\u001b[0m\u001b[0;34m:\u001b[0m\u001b[0;34m\u001b[0m\u001b[0m\n\u001b[0;32m--> 278\u001b[0;31m         \u001b[0;32mreturn\u001b[0m \u001b[0m_CVXcanon\u001b[0m\u001b[0;34m.\u001b[0m\u001b[0mLinOp_set_sparse_data\u001b[0m\u001b[0;34m(\u001b[0m\u001b[0mself\u001b[0m\u001b[0;34m,\u001b[0m \u001b[0mdata\u001b[0m\u001b[0;34m,\u001b[0m \u001b[0mrow_idxs\u001b[0m\u001b[0;34m,\u001b[0m \u001b[0mcol_idxs\u001b[0m\u001b[0;34m,\u001b[0m \u001b[0mrows\u001b[0m\u001b[0;34m,\u001b[0m \u001b[0mcols\u001b[0m\u001b[0;34m)\u001b[0m\u001b[0;34m\u001b[0m\u001b[0m\n\u001b[0m\u001b[1;32m    279\u001b[0m     \u001b[0m__swig_destroy__\u001b[0m \u001b[0;34m=\u001b[0m \u001b[0m_CVXcanon\u001b[0m\u001b[0;34m.\u001b[0m\u001b[0mdelete_LinOp\u001b[0m\u001b[0;34m\u001b[0m\u001b[0m\n\u001b[1;32m    280\u001b[0m     \u001b[0m__del__\u001b[0m \u001b[0;34m=\u001b[0m \u001b[0;32mlambda\u001b[0m \u001b[0mself\u001b[0m\u001b[0;34m:\u001b[0m \u001b[0;32mNone\u001b[0m\u001b[0;34m\u001b[0m\u001b[0m\n",
      "\u001b[0;31mKeyboardInterrupt\u001b[0m: "
     ]
    }
   ],
   "source": [
    "import fancyimpute as fi\n",
    "import our_helpers as ohe\n",
    "\n",
    "X_filled_nnm_2 = fi.NuclearNormMinimization().complete(train)\n",
    "error = ohe.compute_error2(test, X_filled_nnm, nz_test)\n",
    "print(error)"
   ]
  },
  {
   "cell_type": "code",
   "execution_count": 5,
   "metadata": {
    "collapsed": false,
    "scrolled": true
   },
   "outputs": [
    {
     "ename": "AttributeError",
     "evalue": "module 'fancyimpute' has no attribute 'BiScaler'",
     "output_type": "error",
     "traceback": [
      "\u001b[0;31m---------------------------------------------------------------------------\u001b[0m",
      "\u001b[0;31mAttributeError\u001b[0m                            Traceback (most recent call last)",
      "\u001b[0;32m<ipython-input-5-6ea5b75604c0>\u001b[0m in \u001b[0;36m<module>\u001b[0;34m()\u001b[0m\n\u001b[1;32m      2\u001b[0m \u001b[0;32mimport\u001b[0m \u001b[0mour_helpers\u001b[0m \u001b[0;32mas\u001b[0m \u001b[0mohe\u001b[0m\u001b[0;34m\u001b[0m\u001b[0m\n\u001b[1;32m      3\u001b[0m \u001b[0;34m\u001b[0m\u001b[0m\n\u001b[0;32m----> 4\u001b[0;31m \u001b[0mdata_norm\u001b[0m \u001b[0;34m=\u001b[0m \u001b[0mfi\u001b[0m\u001b[0;34m.\u001b[0m\u001b[0mBiScaler\u001b[0m\u001b[0;34m(\u001b[0m\u001b[0mtrain\u001b[0m\u001b[0;34m)\u001b[0m\u001b[0;34m\u001b[0m\u001b[0m\n\u001b[0m\u001b[1;32m      5\u001b[0m \u001b[0mX_filled_nnm_2\u001b[0m \u001b[0;34m=\u001b[0m \u001b[0mfi\u001b[0m\u001b[0;34m.\u001b[0m\u001b[0mMatrixFactorization\u001b[0m\u001b[0;34m(\u001b[0m\u001b[0mrank\u001b[0m\u001b[0;34m=\u001b[0m\u001b[0;36m2\u001b[0m\u001b[0;34m,\u001b[0m\u001b[0ml1_penalty\u001b[0m\u001b[0;34m=\u001b[0m\u001b[0;36m0.065\u001b[0m\u001b[0;34m,\u001b[0m \u001b[0ml2_penalty\u001b[0m\u001b[0;34m=\u001b[0m\u001b[0;36m0.065\u001b[0m\u001b[0;34m)\u001b[0m\u001b[0;34m.\u001b[0m\u001b[0mcomplete\u001b[0m\u001b[0;34m(\u001b[0m\u001b[0mtrain\u001b[0m\u001b[0;34m)\u001b[0m\u001b[0;34m\u001b[0m\u001b[0m\n\u001b[1;32m      6\u001b[0m \u001b[0merror\u001b[0m \u001b[0;34m=\u001b[0m \u001b[0mohe\u001b[0m\u001b[0;34m.\u001b[0m\u001b[0mcompute_error2\u001b[0m\u001b[0;34m(\u001b[0m\u001b[0mtest\u001b[0m\u001b[0;34m,\u001b[0m \u001b[0mX_filled_nnm_2\u001b[0m\u001b[0;34m,\u001b[0m \u001b[0mnz_test\u001b[0m\u001b[0;34m)\u001b[0m\u001b[0;34m\u001b[0m\u001b[0m\n",
      "\u001b[0;31mAttributeError\u001b[0m: module 'fancyimpute' has no attribute 'BiScaler'"
     ]
    }
   ],
   "source": [
    "import fancyimpute as fi\n",
    "import our_helpers as ohe\n",
    "\n",
    "data_norm = fi.BiScaler(train)\n",
    "X_filled_nnm_2 = fi.MatrixFactorization(rank=2,l1_penalty=0.065, l2_penalty=0.065).complete(train)\n",
    "error = ohe.compute_error2(test, X_filled_nnm_2, nz_test)\n",
    "print(error)"
   ]
  },
  {
   "cell_type": "code",
   "execution_count": null,
   "metadata": {
    "collapsed": true
   },
   "outputs": [],
   "source": [
    "#1.03 achvenebda fancyiomputis matrix factorization metodi, kaggleze = 1.05776"
   ]
  }
 ],
 "metadata": {
  "anaconda-cloud": {},
  "kernelspec": {
   "display_name": "Python [default]",
   "language": "python",
   "name": "python3"
  },
  "language_info": {
   "codemirror_mode": {
    "name": "ipython",
    "version": 3
   },
   "file_extension": ".py",
   "mimetype": "text/x-python",
   "name": "python",
   "nbconvert_exporter": "python",
   "pygments_lexer": "ipython3",
   "version": "3.5.2"
  }
 },
 "nbformat": 4,
 "nbformat_minor": 0
}
