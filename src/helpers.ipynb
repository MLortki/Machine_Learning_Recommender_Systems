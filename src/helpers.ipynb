{
 "cells": [
  {
   "cell_type": "code",
   "execution_count": null,
   "metadata": {
    "collapsed": true
   },
   "outputs": [],
   "source": []
  },
  {
   "cell_type": "code",
   "execution_count": 24,
   "metadata": {
    "collapsed": false
   },
   "outputs": [
    {
     "name": "stderr",
     "output_type": "stream",
     "text": [
      "[autoreload of our_helpers failed: Traceback (most recent call last):\n",
      "  File \"/home/kiki/anaconda3/lib/python3.5/site-packages/IPython/extensions/autoreload.py\", line 247, in check\n",
      "    superreload(m, reload, self.old_objects)\n",
      "  File \"/mnt/home/kiki/PhD/MachineLearning/2Project/github/src/our_helpers.py\", line 150\n",
      "    print('number of non-zero elements for train(95%):{}, validation(2.5%):{},\n",
      "                                                                             ^\n",
      "SyntaxError: EOL while scanning string literal\n",
      "]\n"
     ]
    },
    {
     "name": "stdout",
     "output_type": "stream",
     "text": [
      "number of items: 10000, number of users: 1000\n",
      "Percentage of nz train data:  0.9499, percentage of nz test data:  0.0501\n",
      "Percentage of nz train data:  0.4982, percentage of nz test data:  0.5018\n"
     ]
    }
   ],
   "source": [
    "# Create datasets for Blending\n",
    "% matplotlib inline\n",
    "from our_helpers import split_data\n",
    "from helpers import load_data\n",
    "\n",
    "file_train = '../data/data_train.csv'\n",
    "ratings = load_data(file_train)\n",
    "__, train, test = split_data(ratings,0.05)\n",
    "__, test_test, test_validation = split_data(test, 0.5)\n"
   ]
  },
  {
   "cell_type": "code",
   "execution_count": 28,
   "metadata": {
    "collapsed": false
   },
   "outputs": [
    {
     "name": "stdout",
     "output_type": "stream",
     "text": [
      "number of items: 10000, number of users: 1000\n",
      "number of items: 10000, number of users: 1000\n",
      "number of items: 10000, number of users: 1000\n"
     ]
    }
   ],
   "source": [
    "from our_helpers import create_dataset_blending, create_dataset_surprise\n",
    "\n",
    "create_dataset_blending()\n",
    "create_dataset_surprise('../data/blending_train.csv', '../data/blending_train_surprise.csv')\n",
    "create_dataset_surprise('../data/blending_validation.csv', '../data/blending_validation_surprise.csv')\n",
    "create_dataset_surprise('../data/blending_test.csv', '../data/blending_test_surprise.csv')"
   ]
  },
  {
   "cell_type": "code",
   "execution_count": 22,
   "metadata": {
    "collapsed": false
   },
   "outputs": [
    {
     "name": "stdout",
     "output_type": "stream",
     "text": [
      "number of items: 10000, number of users: 1000\n",
      "(10000, 1000)\n",
      "number of items: 10000, number of users: 1000\n",
      "(10000, 1000)\n",
      "number of items: 10000, number of users: 1000\n",
      "(10000, 1000)\n"
     ]
    }
   ],
   "source": []
  },
  {
   "cell_type": "code",
   "execution_count": 23,
   "metadata": {
    "collapsed": false
   },
   "outputs": [
    {
     "name": "stdout",
     "output_type": "stream",
     "text": [
      "number of non-zero elements for train(95%):1117939, validation(2.5%):29610, test(2.5%):29403\n"
     ]
    }
   ],
   "source": [
    "print('number of non-zero elements for train(95%):{}, validation(2.5%):{}, test(2.5%):{}'.format( \\\n",
    "                                ratings_train.nnz, ratings_validation.nnz,ratings_test.nnz))"
   ]
  },
  {
   "cell_type": "code",
   "execution_count": null,
   "metadata": {
    "collapsed": true
   },
   "outputs": [],
   "source": []
  }
 ],
 "metadata": {
  "anaconda-cloud": {},
  "kernelspec": {
   "display_name": "Python [default]",
   "language": "python",
   "name": "python3"
  },
  "language_info": {
   "codemirror_mode": {
    "name": "ipython",
    "version": 3
   },
   "file_extension": ".py",
   "mimetype": "text/x-python",
   "name": "python",
   "nbconvert_exporter": "python",
   "pygments_lexer": "ipython3",
   "version": "3.5.2"
  }
 },
 "nbformat": 4,
 "nbformat_minor": 1
}
