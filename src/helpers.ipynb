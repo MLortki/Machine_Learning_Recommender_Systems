{
 "cells": [
  {
   "cell_type": "code",
   "execution_count": null,
   "metadata": {
    "collapsed": true
   },
   "outputs": [],
   "source": [
    "# Create datasets for Surprise\n",
    "from helpers import load_data\n",
    "import scipy.sparse as sp\n",
    "import pandas as pd\n",
    "#ratings = load_data('../data/sampleSubmission.csv')\n",
    "ratings = load_data('../data/data_train.csv')\n",
    "rows, cols, ratings = sp.find(ratings)\n",
    "rows = rows + 1\n",
    "cols = cols + 1\n",
    "test_pd = pd.DataFrame({'item':rows,'user':cols,'rating':ratings})\n",
    "output_path = '../data/data_train_surprise.csv'\n",
    "test_pd.to_csv(output_path,index=False)"
   ]
  },
  {
   "cell_type": "code",
   "execution_count": 3,
   "metadata": {
    "collapsed": false
   },
   "outputs": [
    {
     "name": "stdout",
     "output_type": "stream",
     "text": [
      "number of items: 10000, number of users: 1000\n",
      "Percentage of nz train data:  0.0499, percentage of nz test data:  0.9501\n",
      "Percentage of nz train data:  0.4993, percentage of nz test data:  0.5007\n",
      "Saved predictions at ../data/data_train.csv\n"
     ]
    },
    {
     "ename": "NameError",
     "evalue": "name 'test_validation' is not defined",
     "output_type": "error",
     "traceback": [
      "\u001b[0;31m---------------------------------------------------------------------------\u001b[0m",
      "\u001b[0;31mNameError\u001b[0m                                 Traceback (most recent call last)",
      "\u001b[0;32m<ipython-input-3-edacd465f856>\u001b[0m in \u001b[0;36m<module>\u001b[0;34m()\u001b[0m\n\u001b[1;32m     13\u001b[0m \u001b[0m__\u001b[0m\u001b[0;34m,\u001b[0m \u001b[0mtest_test\u001b[0m\u001b[0;34m,\u001b[0m \u001b[0mtest_valdiation\u001b[0m \u001b[0;34m=\u001b[0m \u001b[0msplit_data\u001b[0m\u001b[0;34m(\u001b[0m\u001b[0mtest\u001b[0m\u001b[0;34m,\u001b[0m \u001b[0;36m0.5\u001b[0m\u001b[0;34m)\u001b[0m\u001b[0;34m\u001b[0m\u001b[0m\n\u001b[1;32m     14\u001b[0m \u001b[0mwrite_predictions_csv\u001b[0m\u001b[0;34m(\u001b[0m\u001b[0mfile_blending_test\u001b[0m\u001b[0;34m,\u001b[0m \u001b[0mtest_test\u001b[0m\u001b[0;34m)\u001b[0m\u001b[0;34m\u001b[0m\u001b[0m\n\u001b[0;32m---> 15\u001b[0;31m \u001b[0mwrite_predictions_csv\u001b[0m\u001b[0;34m(\u001b[0m\u001b[0mfile_blending_validation\u001b[0m\u001b[0;34m,\u001b[0m \u001b[0mtest_validation\u001b[0m\u001b[0;34m)\u001b[0m\u001b[0;34m\u001b[0m\u001b[0m\n\u001b[0m\u001b[1;32m     16\u001b[0m \u001b[0mwrite_predictions_csv\u001b[0m\u001b[0;34m(\u001b[0m\u001b[0mfile_blending_train\u001b[0m\u001b[0;34m,\u001b[0m \u001b[0mtrain\u001b[0m\u001b[0;34m)\u001b[0m\u001b[0;34m\u001b[0m\u001b[0m\n",
      "\u001b[0;31mNameError\u001b[0m: name 'test_validation' is not defined"
     ]
    }
   ],
   "source": [
    "# Create datasets for Blending\n",
    "% matplotlib inline\n",
    "from our_helpers import split_data, write_predictions_csv\n",
    "from helpers import load_data\n",
    "\n",
    "file_train = '../data/data_train.csv'\n",
    "ratings = load_data(file_train)\n",
    "__, train, test = split_data(ratings,0.95)\n",
    "__, test_test, test_validation = split_data(test, 0.5)\n"
   ]
  },
  {
   "cell_type": "code",
   "execution_count": 6,
   "metadata": {
    "collapsed": false
   },
   "outputs": [
    {
     "name": "stdout",
     "output_type": "stream",
     "text": [
      "Saved predictions at ../data/blending_test.csv\n",
      "Saved predictions at ../data/blending_validation.csv\n",
      "Saved predictions at ../data/blending_train.csv\n"
     ]
    }
   ],
   "source": [
    "file_blending_train = '../data/blending_train.csv'\n",
    "file_blending_test = '../data/blending_test.csv'\n",
    "file_blending_validation = '../data/blending_validation.csv'\n",
    "\n",
    "write_predictions_csv(file_blending_test, test_test)\n",
    "write_predictions_csv(file_blending_validation, test_valdiation)\n",
    "write_predictions_csv(file_blending_train, train)"
   ]
  },
  {
   "cell_type": "code",
   "execution_count": 7,
   "metadata": {
    "collapsed": false
   },
   "outputs": [
    {
     "name": "stdout",
     "output_type": "stream",
     "text": [
      "number of items: 9990, number of users: 999\n",
      "number of items: 9988, number of users: 999\n",
      "number of items: 9988, number of users: 999\n"
     ]
    }
   ],
   "source": [
    "# Statistics \n",
    "ratings_train = load_data(file_blending_train)\n",
    "ratings_validation = load_data(file_blending_validation)\n",
    "ratings_test = load_data(file_blending_test)"
   ]
  },
  {
   "cell_type": "code",
   "execution_count": null,
   "metadata": {
    "collapsed": true
   },
   "outputs": [],
   "source": []
  }
 ],
 "metadata": {
  "anaconda-cloud": {},
  "kernelspec": {
   "display_name": "Python [default]",
   "language": "python",
   "name": "python3"
  },
  "language_info": {
   "codemirror_mode": {
    "name": "ipython",
    "version": 3
   },
   "file_extension": ".py",
   "mimetype": "text/x-python",
   "name": "python",
   "nbconvert_exporter": "python",
   "pygments_lexer": "ipython3",
   "version": "3.5.2"
  }
 },
 "nbformat": 4,
 "nbformat_minor": 1
}
