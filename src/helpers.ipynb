{
 "cells": [
  {
   "cell_type": "code",
   "execution_count": null,
   "metadata": {
    "collapsed": true
   },
   "outputs": [],
   "source": []
  },
  {
   "cell_type": "code",
   "execution_count": 20,
   "metadata": {
    "collapsed": false
   },
   "outputs": [
    {
     "name": "stdout",
     "output_type": "stream",
     "text": [
      "number of items: 10000, number of users: 1000\n",
      "Percentage of nz train data:  0.9499, percentage of nz test data:  0.0501\n",
      "Percentage of nz train data:  0.4982, percentage of nz test data:  0.5018\n"
     ]
    }
   ],
   "source": [
    "# Create datasets for Blending\n",
    "% matplotlib inline\n",
    "from our_helpers import split_data\n",
    "from helpers import load_data\n",
    "\n",
    "file_train = '../data/data_train.csv'\n",
    "ratings = load_data(file_train)\n",
    "__, train, test = split_data(ratings,0.05)\n",
    "__, test_test, test_validation = split_data(test, 0.5)\n"
   ]
  },
  {
   "cell_type": "code",
   "execution_count": 21,
   "metadata": {
    "collapsed": false
   },
   "outputs": [
    {
     "name": "stdout",
     "output_type": "stream",
     "text": [
      "Saved predictions at ../data/blending_test.csv\n",
      "Saved predictions at ../data/blending_validation.csv\n",
      "Saved predictions at ../data/blending_train.csv\n"
     ]
    }
   ],
   "source": [
    "file_blending_train = '../data/blending_train.csv'\n",
    "file_blending_test = '../data/blending_test.csv'\n",
    "file_blending_validation = '../data/blending_validation.csv'\n",
    "\n",
    "write_predictions_csv(file_blending_test, test_test)\n",
    "write_predictions_csv(file_blending_validation, test_validation)\n",
    "write_predictions_csv(file_blending_train, train)"
   ]
  },
  {
   "cell_type": "code",
   "execution_count": 22,
   "metadata": {
    "collapsed": false
   },
   "outputs": [
    {
     "name": "stdout",
     "output_type": "stream",
     "text": [
      "number of items: 10000, number of users: 1000\n",
      "(10000, 1000)\n",
      "number of items: 10000, number of users: 1000\n",
      "(10000, 1000)\n",
      "number of items: 10000, number of users: 1000\n",
      "(10000, 1000)\n"
     ]
    }
   ],
   "source": [
    "# Statistics \n",
    "ratings_train = load_data(file_blending_train)\n",
    "print(ratings_train.shape)\n",
    "ratings_validation = load_data(file_blending_validation)\n",
    "print(ratings_train.shape)\n",
    "ratings_test = load_data(file_blending_test)\n",
    "print(ratings_train.shape)\n"
   ]
  },
  {
   "cell_type": "code",
   "execution_count": 23,
   "metadata": {
    "collapsed": false
   },
   "outputs": [
    {
     "name": "stdout",
     "output_type": "stream",
     "text": [
      "number of non-zero elements for train(95%):1117939, validation(2.5%):29610, test(2.5%):29403\n"
     ]
    }
   ],
   "source": [
    "print('number of non-zero elements for train(95%):{}, validation(2.5%):{}, test(2.5%):{}'.format( \\\n",
    "                                ratings_train.nnz, ratings_validation.nnz,ratings_test.nnz))"
   ]
  },
  {
   "cell_type": "code",
   "execution_count": null,
   "metadata": {
    "collapsed": true
   },
   "outputs": [],
   "source": []
  }
 ],
 "metadata": {
  "anaconda-cloud": {},
  "kernelspec": {
   "display_name": "Python [default]",
   "language": "python",
   "name": "python3"
  },
  "language_info": {
   "codemirror_mode": {
    "name": "ipython",
    "version": 3
   },
   "file_extension": ".py",
   "mimetype": "text/x-python",
   "name": "python",
   "nbconvert_exporter": "python",
   "pygments_lexer": "ipython3",
   "version": "3.5.2"
  }
 },
 "nbformat": 4,
 "nbformat_minor": 1
}
