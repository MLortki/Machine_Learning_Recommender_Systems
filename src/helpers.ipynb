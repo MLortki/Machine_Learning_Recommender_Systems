{
 "cells": [
  {
   "cell_type": "markdown",
   "metadata": {
    "collapsed": false
   },
   "source": [
    "## Create files compatible with surprise databases. "
   ]
  },
  {
   "cell_type": "code",
   "execution_count": 2,
   "metadata": {
    "collapsed": false
   },
   "outputs": [
    {
     "name": "stdout",
     "output_type": "stream",
     "text": [
      "number of items: 10000, number of users: 1000\n"
     ]
    }
   ],
   "source": [
    "from helpers import load_data\n",
    "import scipy.sparse as sp\n",
    "import pandas as pd\n",
    "#ratings = load_data('../data/sampleSubmission.csv')\n",
    "ratings = load_data('../data/data_train.csv')\n",
    "rows, cols, ratings = sp.find(ratings)\n",
    "rows = rows + 1\n",
    "cols = cols + 1\n",
    "test_pd = pd.DataFrame({'item':rows,'user':cols,'rating':ratings})\n",
    "output_path = '../data/data_train_surprise.csv'\n",
    "test_pd.to_csv(output_path,index=False)"
   ]
  },
  {
   "cell_type": "code",
   "execution_count": null,
   "metadata": {
    "collapsed": true
   },
   "outputs": [],
   "source": []
  }
 ],
 "metadata": {
  "anaconda-cloud": {},
  "kernelspec": {
   "display_name": "Python [default]",
   "language": "python",
   "name": "python3"
  },
  "language_info": {
   "codemirror_mode": {
    "name": "ipython",
    "version": 3
   },
   "file_extension": ".py",
   "mimetype": "text/x-python",
   "name": "python",
   "nbconvert_exporter": "python",
   "pygments_lexer": "ipython3",
   "version": "3.5.2"
  }
 },
 "nbformat": 4,
 "nbformat_minor": 1
}
