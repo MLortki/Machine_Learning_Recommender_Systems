{
 "cells": [
  {
   "cell_type": "code",
   "execution_count": 21,
   "metadata": {
    "collapsed": false
   },
   "outputs": [
    {
     "data": {
      "text/plain": [
       "array([ 0.1  ,  0.01 ,  0.001])"
      ]
     },
     "execution_count": 21,
     "metadata": {},
     "output_type": "execute_result"
    }
   ],
   "source": [
    "np.logspace(-1,-3,3)"
   ]
  },
  {
   "cell_type": "markdown",
   "metadata": {},
   "source": [
    "## Do cross validation"
   ]
  },
  {
   "cell_type": "code",
   "execution_count": 2,
   "metadata": {
    "collapsed": false
   },
   "outputs": [],
   "source": [
    "# load data\n",
    "from surprise import Dataset, Reader\n",
    "train_reader = Reader(line_format='item rating user', sep=',',skip_lines=1) \n",
    "train_file = '../data/data_train_surprise.csv'\n",
    "train_data = Dataset.load_from_file(train_file, reader=train_reader)"
   ]
  },
  {
   "cell_type": "code",
   "execution_count": null,
   "metadata": {
    "collapsed": false
   },
   "outputs": [
    {
     "name": "stdout",
     "output_type": "stream",
     "text": [
      "testing with n_factors=20\n",
      "testing with reg_all=0.1\n",
      "rmse=0.9994457315784171\n",
      "testing with reg_all=0.01\n",
      "rmse=0.9988482932794094\n",
      "testing with reg_all=0.001\n",
      "rmse=0.9990355142519917\n",
      "testing with n_factors=25\n",
      "testing with reg_all=0.1\n",
      "rmse=0.9997798460901125\n",
      "testing with reg_all=0.01\n",
      "rmse=0.9984176319251953\n",
      "testing with reg_all=0.001\n"
     ]
    }
   ],
   "source": [
    "# do cross validation\n",
    "from surprise import SVD\n",
    "from surprise.accuracy import rmse\n",
    "import numpy as np\n",
    "\n",
    "\n",
    "n_factors = 8 # The number of factors. Default is 100.\n",
    "n_epochs  = 20 # The number of iteration of the SGD procedure. Default is 20.\n",
    "biased    = True# Whether to use baselines (or biases). See note above. Default is True.\n",
    "lr_all    = 0.005 # The learning rate for all parameters. Default is 0.005.\n",
    "reg_all   = 0.02 # The regularization term for all parameters. Default is 0.02.\n",
    "#lr_bu    # The learning rate for bubu. Takes precedence over lr_all if set. Default is None.\n",
    "#lr_bi    # The learning rate for bibi. Takes precedence over lr_all if set. Default is None.\n",
    "#lr_pu    # The learning rate for pupu. Takes precedence over lr_all if set. Default is None.\n",
    "#lr_qi    # The learning rate for qiqi. Takes precedence over lr_all if set. Default is None.\n",
    "#reg_bu   # The regularization term for bubu. Takes precedence over reg_all if set. Default is None.\n",
    "#reg_bi   # The regularization term for bibi. Takes precedence over reg_all if set. Default is None.\n",
    "#reg_pu   # The regularization term for pupu. Takes precedence over reg_all if set. Default is None.\n",
    "#reg_qi   # The regularization term for qiqi. Takes precedence over reg_all if set. Default is None.\n",
    "\n",
    "def evaluate_k_fold(n_factors, n_epochs, lr_all, reg_all):\n",
    "    algo = SVD(n_factors=n_factors,n_epochs=n_epochs,lr_all=lr_all,reg_all=reg_all)\n",
    "    algo.bsl_options['biased'] = biased\n",
    "    n_folds = 3\n",
    "    train_data.split(n_folds=n_folds)\n",
    "    rmses = []\n",
    "    for trainset, testset in train_data.folds():\n",
    "        # train and test algorithm.\n",
    "        algo.train(trainset)\n",
    "        predictions = algo.test(testset)\n",
    "        # Compute and print Root Mean Squared Error\n",
    "        rmse_k = rmse(predictions, verbose=False)\n",
    "        rmses.append(rmse_k)\n",
    "    rmse_mean = np.mean(rmses) \n",
    "    return rmse_mean\n",
    "\n",
    "n_factors_range = range(20,50,5)\n",
    "reg_all_range = np.logspace(-1,-3,3)\n",
    "rmses = np.empty((len(n_factors_range),len(reg_all_range)))\n",
    "for i,n_factors in enumerate(n_factors_range):\n",
    "    print('testing with n_factors={}'.format(n_factors))\n",
    "    for j,reg_all in enumerate(reg_all_range):\n",
    "        print('testing with reg_all={}'.format(reg_all))\n",
    "        rmses[i,j] = evaluate_k_fold(n_factors,n_epochs,lr_all, reg_all)\n",
    "        print('rmse={}'.format(rmses[i,j]))"
   ]
  },
  {
   "cell_type": "code",
   "execution_count": null,
   "metadata": {
    "collapsed": true
   },
   "outputs": [],
   "source": [
    "# Plot results\n",
    "import matplotlib.pyplot as plt\n",
    "num_n_factors = rmses.shape[0]\n",
    "num_reg_all = rmses.shape[1]\n",
    "fig, axis = plt.subplots((1,num_n_factors)) \n",
    "for i,ax in enumerate(axis)\n",
    "    ax.semilogx(reg_all_range,rmses[i,:])\n",
    "    ax.set_title('n_factors={}'.format(n_factors_range[i]))"
   ]
  },
  {
   "cell_type": "markdown",
   "metadata": {},
   "source": [
    "##  Train on whole data"
   ]
  },
  {
   "cell_type": "code",
   "execution_count": null,
   "metadata": {
    "collapsed": true
   },
   "outputs": [],
   "source": [
    "# load data\n",
    "from surprise import Dataset, Reader\n",
    "fold_reader = Reader(line_format='item rating user', sep=',',skip_lines=1) \n",
    "# fold_files = [(train_set, test_set)]\n",
    "fold_files = [('../data/data_train_surprise.csv', '../data/sampleSubmission_surprise.csv')]\n",
    "fold_data = Dataset.load_from_folds(fold_files, reader=fold_reader)"
   ]
  },
  {
   "cell_type": "code",
   "execution_count": null,
   "metadata": {
    "collapsed": false
   },
   "outputs": [],
   "source": [
    "# train algorithm.\n",
    "from surprise import SVD\n",
    "from surprise.accuracy import rmse\n",
    "from surprise.dump import dump\n",
    "algo = SVD()\n",
    "for (trainset, testset) in fold_data.folds():\n",
    "    print('training SVD...')\n",
    "    algo.train(trainset)\n",
    "    print('testing SVD...')\n",
    "    predictions_svd = algo.test(testset)\n",
    "    #rmse(predictions_svd)\n",
    "    dump('../results/dump_SVD', predictions_svd, trainset, algo)"
   ]
  },
  {
   "cell_type": "markdown",
   "metadata": {},
   "source": [
    "## Save submission"
   ]
  },
  {
   "cell_type": "code",
   "execution_count": 3,
   "metadata": {
    "collapsed": false
   },
   "outputs": [
    {
     "name": "stdout",
     "output_type": "stream",
     "text": [
      "Raw: \n",
      "   uid  iid  rui       est                    details       err\n",
      "0   1   37  3.0  3.373404  {'was_impossible': False}  0.373404\n",
      "1   1   73  3.0  2.969716  {'was_impossible': False}  0.030284\n",
      "2   1  156  3.0  3.734202  {'was_impossible': False}  0.734202\n",
      "3   1  160  3.0  3.228011  {'was_impossible': False}  0.228011\n",
      "4   1  248  3.0  3.510695  {'was_impossible': False}  0.510695\n",
      "Submission: \n",
      "         Id  Prediction\n",
      "0   r37_c1         3.0\n",
      "1   r73_c1         3.0\n",
      "2  r156_c1         4.0\n",
      "3  r160_c1         3.0\n",
      "4  r248_c1         4.0\n"
     ]
    }
   ],
   "source": [
    "# create correct format\n",
    "import pickle\n",
    "import pandas as pd\n",
    "dump_obj_svd = pickle.load(open('../results/dump_SVD', 'rb'))\n",
    "df_svd = pd.DataFrame(dump_obj_svd['predictions'], columns=['uid', 'iid', 'rui', 'est', 'details'])    \n",
    "df_svd['err'] = abs(df_svd.est - df_svd.rui)\n",
    "print('Raw: \\n',df_svd.head())\n",
    "df_svd[\"Id\"] = \"r\" + df_svd[\"iid\"].map(str) + \"_c\" +df_svd[\"uid\"].map(str)\n",
    "\n",
    "# TODO: choose if we want to round or not. \n",
    "#df_svd[\"Prediction\"] = df_svd[\"est\"].clip(0,5) #round()\n",
    "df_svd[\"Prediction\"] = df_svd[\"est\"].clip(0,5).round()\n",
    "\n",
    "\n",
    "df_svd_new = df_svd.drop([\"iid\",\"uid\",\"est\",\"details\",\"rui\",\"err\"],1)\n",
    "\n",
    "# save submission\n",
    "output_path = '../results/submission_surprise.csv'\n",
    "df_svd_new.to_csv(output_path,columns=[\"Id\",\"Prediction\"],index=False)\n",
    "print('Submission: \\n',df_svd_new.head())"
   ]
  },
  {
   "cell_type": "code",
   "execution_count": null,
   "metadata": {
    "collapsed": true
   },
   "outputs": [],
   "source": []
  }
 ],
 "metadata": {
  "anaconda-cloud": {},
  "kernelspec": {
   "display_name": "Python [default]",
   "language": "python",
   "name": "python3"
  },
  "language_info": {
   "codemirror_mode": {
    "name": "ipython",
    "version": 3
   },
   "file_extension": ".py",
   "mimetype": "text/x-python",
   "name": "python",
   "nbconvert_exporter": "python",
   "pygments_lexer": "ipython3",
   "version": "3.5.2"
  }
 },
 "nbformat": 4,
 "nbformat_minor": 1
}
