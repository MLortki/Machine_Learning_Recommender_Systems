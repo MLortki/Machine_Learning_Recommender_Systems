{
 "cells": [
  {
   "cell_type": "code",
   "execution_count": 4,
   "metadata": {
    "collapsed": false
   },
   "outputs": [],
   "source": [
    "%matplotlib inline\n",
    "import matplotlib.pyplot as plt"
   ]
  },
  {
   "cell_type": "markdown",
   "metadata": {},
   "source": [
    "## Do cross validation"
   ]
  },
  {
   "cell_type": "code",
   "execution_count": 8,
   "metadata": {
    "collapsed": false
   },
   "outputs": [],
   "source": [
    "# load data\n",
    "from surprise import Dataset, Reader\n",
    "train_reader = Reader(line_format='item rating user', sep=',',skip_lines=1) \n",
    "train_file = '../data/blending_train_surprise.csv'\n",
    "train_data = Dataset.load_from_file(train_file, reader=train_reader)"
   ]
  },
  {
   "cell_type": "code",
   "execution_count": 6,
   "metadata": {
    "collapsed": false
   },
   "outputs": [],
   "source": [
    "# do cross validation\n",
    "from surprise import SVD\n",
    "from surprise.accuracy import rmse\n",
    "import numpy as np\n",
    "from surprise.evaluate import evaluate\n",
    "\n",
    "\n",
    "#6. rmse=0,9045 BasicSVD k=380,η= 0.001,λ= 0.02, α= 2.0, nonNegWeights\n",
    "#8. rmse=0,9170 BasicSVD k=200,η= 2e-4, λ= 0.005,α= 2.0, nonNegWeights\n",
    "#9. rmse=0,9143 BasicSVD k=300,η= 0.001,λ= 0.008,α= 2.0, on 0 GE\n",
    "params = {'n_factors':380,'lr_all':0.001,'reg_all':0.02 ,'biased':True,'n_epochs':20}\n",
    "#params = {'n_factors':200,'lr_all':2e-4, 'reg_all':0.005,'biased':True,'n_epochs':20}\n",
    "#params = {'n_factors':300,'lr_all':0.001,'reg_all':0.008,'biased':True,'n_epochs':20}\n",
    "#params = {'n_factors':12,'n_epochs':20,'lr_all':0.005,'reg_all':0.0359,'biased':True} # prediction\n",
    "#params = {'n_factors':100,'n_epochs':20,'lr_all':0.005,'reg_all':0.02,'biased':True} # default\n",
    "#train_data.split(n_folds=2)\n",
    "#algo = SVD(n_factors=params['n_factors'],n_epochs=params['n_epochs'],lr_all=params['lr_all'],reg_all=params['reg_all'])\n",
    "#algo = SVD()\n",
    "#perf=evaluate(algo, train_data, measures=['rmse'], with_dump=False, dump_dir=None, verbose=1)\n",
    "\n",
    "# nepoch K   lr_all  reg_all  rmse \n",
    "# 120    40  0.001   0.00005  0.9984\n",
    "# 80     40  0.001   0.00005  0.9999 \n",
    "# 80     40  0.01    0.00005  1.0105 \n",
    "# 80     40  0.01    0.02     1.0058\n",
    "# 80     40  0.01    0.2      1.0071 \n",
    "# 40     40  0.001   0.2      1.0042\n",
    "# 80     40  0.001   0.2      1.0043\n",
    "# 120    40  0.001   0.2      1.0047\n",
    "# 40    100  0.001   0.00005  1.0013     \n",
    "# 80    100  0.001   0.0005   1.0017 \n",
    "# 120    100  0.001   0.0005  1.0002 \n",
    "# 120    100  0.001   0.005   \n",
    "# 120    40  0.001   0.0005   1.0016 \n",
    "# 120    40  0.001   0.00001  1.0032 "
   ]
  },
  {
   "cell_type": "code",
   "execution_count": null,
   "metadata": {
    "collapsed": true
   },
   "outputs": [],
   "source": []
  },
  {
   "cell_type": "code",
   "execution_count": 7,
   "metadata": {
    "collapsed": false
   },
   "outputs": [
    {
     "name": "stdout",
     "output_type": "stream",
     "text": [
      "[ 0.001  0.003  0.005  0.007  0.009]\n",
      "[ 0.02   0.025  0.03   0.035  0.04   0.045]\n",
      "[30 35 40 45]\n",
      "testing with lr_all=0.001\n",
      "testing with reg_all=0.02\n",
      "testing with n_epochs=30\n"
     ]
    },
    {
     "ename": "NameError",
     "evalue": "name 'train_data' is not defined",
     "output_type": "error",
     "traceback": [
      "\u001b[0;31m---------------------------------------------------------------------------\u001b[0m",
      "\u001b[0;31mNameError\u001b[0m                                 Traceback (most recent call last)",
      "\u001b[0;32m<ipython-input-7-96fad940fdec>\u001b[0m in \u001b[0;36m<module>\u001b[0;34m()\u001b[0m\n\u001b[1;32m     43\u001b[0m     \u001b[0;32mreturn\u001b[0m \u001b[0mrmses\u001b[0m\u001b[0;34m\u001b[0m\u001b[0m\n\u001b[1;32m     44\u001b[0m \u001b[0;31m#rmses = run_simulation(n_factors_range, reg_all_range, n_epochs_range)\u001b[0m\u001b[0;34m\u001b[0m\u001b[0;34m\u001b[0m\u001b[0m\n\u001b[0;32m---> 45\u001b[0;31m \u001b[0mrmses\u001b[0m \u001b[0;34m=\u001b[0m \u001b[0mrun_simulation\u001b[0m\u001b[0;34m(\u001b[0m\u001b[0mlr_all_range\u001b[0m\u001b[0;34m,\u001b[0m \u001b[0mreg_all_range\u001b[0m\u001b[0;34m,\u001b[0m \u001b[0mn_epochs_range\u001b[0m\u001b[0;34m)\u001b[0m\u001b[0;34m\u001b[0m\u001b[0m\n\u001b[0m",
      "\u001b[0;32m<ipython-input-7-96fad940fdec>\u001b[0m in \u001b[0;36mrun_simulation\u001b[0;34m(lr_all_range, reg_all_range, n_epochs_range)\u001b[0m\n\u001b[1;32m     35\u001b[0m             \u001b[0;32mfor\u001b[0m \u001b[0mk\u001b[0m\u001b[0;34m,\u001b[0m\u001b[0mn_epochs\u001b[0m \u001b[0;32min\u001b[0m \u001b[0menumerate\u001b[0m\u001b[0;34m(\u001b[0m\u001b[0mn_epochs_range\u001b[0m\u001b[0;34m)\u001b[0m\u001b[0;34m:\u001b[0m\u001b[0;34m\u001b[0m\u001b[0m\n\u001b[1;32m     36\u001b[0m                 \u001b[0mprint\u001b[0m\u001b[0;34m(\u001b[0m\u001b[0;34m'testing with n_epochs={}'\u001b[0m\u001b[0;34m.\u001b[0m\u001b[0mformat\u001b[0m\u001b[0;34m(\u001b[0m\u001b[0mn_epochs\u001b[0m\u001b[0;34m)\u001b[0m\u001b[0;34m)\u001b[0m\u001b[0;34m\u001b[0m\u001b[0m\n\u001b[0;32m---> 37\u001b[0;31m                 \u001b[0mrmses\u001b[0m\u001b[0;34m[\u001b[0m\u001b[0mi\u001b[0m\u001b[0;34m,\u001b[0m\u001b[0mj\u001b[0m\u001b[0;34m,\u001b[0m\u001b[0mk\u001b[0m\u001b[0;34m]\u001b[0m \u001b[0;34m=\u001b[0m \u001b[0mevaluate_k_fold\u001b[0m\u001b[0;34m(\u001b[0m\u001b[0mint\u001b[0m\u001b[0;34m(\u001b[0m\u001b[0mn_factors\u001b[0m\u001b[0;34m)\u001b[0m\u001b[0;34m,\u001b[0m\u001b[0mn_epochs\u001b[0m\u001b[0;34m,\u001b[0m\u001b[0mparams\u001b[0m\u001b[0;34m[\u001b[0m\u001b[0;34m'lr_all'\u001b[0m\u001b[0;34m]\u001b[0m\u001b[0;34m,\u001b[0m\u001b[0mreg_all\u001b[0m\u001b[0;34m)\u001b[0m\u001b[0;34m\u001b[0m\u001b[0m\n\u001b[0m\u001b[1;32m     38\u001b[0m                 \u001b[0mprint\u001b[0m\u001b[0;34m(\u001b[0m\u001b[0;34m'rmse={}'\u001b[0m\u001b[0;34m.\u001b[0m\u001b[0mformat\u001b[0m\u001b[0;34m(\u001b[0m\u001b[0mrmses\u001b[0m\u001b[0;34m[\u001b[0m\u001b[0mi\u001b[0m\u001b[0;34m,\u001b[0m\u001b[0mj\u001b[0m\u001b[0;34m,\u001b[0m\u001b[0mk\u001b[0m\u001b[0;34m]\u001b[0m\u001b[0;34m)\u001b[0m\u001b[0;34m)\u001b[0m\u001b[0;34m\u001b[0m\u001b[0m\n\u001b[1;32m     39\u001b[0m             \u001b[0;31m#results_name = 'rmse_{}_{}'.format(n_factors, reg_all)\u001b[0m\u001b[0;34m\u001b[0m\u001b[0;34m\u001b[0m\u001b[0m\n",
      "\u001b[0;32m<ipython-input-7-96fad940fdec>\u001b[0m in \u001b[0;36mevaluate_k_fold\u001b[0;34m(n_factors, n_epochs, lr_all, reg_all)\u001b[0m\n\u001b[1;32m      2\u001b[0m     \u001b[0malgo\u001b[0m \u001b[0;34m=\u001b[0m \u001b[0mSVD\u001b[0m\u001b[0;34m(\u001b[0m\u001b[0mn_factors\u001b[0m\u001b[0;34m=\u001b[0m\u001b[0mn_factors\u001b[0m\u001b[0;34m,\u001b[0m\u001b[0mn_epochs\u001b[0m\u001b[0;34m=\u001b[0m\u001b[0mn_epochs\u001b[0m\u001b[0;34m,\u001b[0m\u001b[0mlr_all\u001b[0m\u001b[0;34m=\u001b[0m\u001b[0mlr_all\u001b[0m\u001b[0;34m,\u001b[0m\u001b[0mreg_all\u001b[0m\u001b[0;34m=\u001b[0m\u001b[0mreg_all\u001b[0m\u001b[0;34m)\u001b[0m\u001b[0;34m\u001b[0m\u001b[0m\n\u001b[1;32m      3\u001b[0m     \u001b[0mn_folds\u001b[0m \u001b[0;34m=\u001b[0m \u001b[0;36m2\u001b[0m\u001b[0;34m\u001b[0m\u001b[0m\n\u001b[0;32m----> 4\u001b[0;31m     \u001b[0mtrain_data\u001b[0m\u001b[0;34m.\u001b[0m\u001b[0msplit\u001b[0m\u001b[0;34m(\u001b[0m\u001b[0mn_folds\u001b[0m\u001b[0;34m=\u001b[0m\u001b[0mn_folds\u001b[0m\u001b[0;34m)\u001b[0m\u001b[0;34m\u001b[0m\u001b[0m\n\u001b[0m\u001b[1;32m      5\u001b[0m     \u001b[0mrmses_test\u001b[0m \u001b[0;34m=\u001b[0m \u001b[0;34m[\u001b[0m\u001b[0;34m]\u001b[0m\u001b[0;34m\u001b[0m\u001b[0m\n\u001b[1;32m      6\u001b[0m     \u001b[0;32mfor\u001b[0m \u001b[0mtrainset\u001b[0m\u001b[0;34m,\u001b[0m \u001b[0mtestset\u001b[0m \u001b[0;32min\u001b[0m \u001b[0mtrain_data\u001b[0m\u001b[0;34m.\u001b[0m\u001b[0mfolds\u001b[0m\u001b[0;34m(\u001b[0m\u001b[0;34m)\u001b[0m\u001b[0;34m:\u001b[0m\u001b[0;34m\u001b[0m\u001b[0m\n",
      "\u001b[0;31mNameError\u001b[0m: name 'train_data' is not defined"
     ]
    }
   ],
   "source": [
    "def evaluate_k_fold(n_factors, n_epochs, lr_all, reg_all):\n",
    "    algo = SVD(n_factors=n_factors,n_epochs=n_epochs,lr_all=lr_all,reg_all=reg_all)\n",
    "    n_folds = 2\n",
    "    train_data.split(n_folds=n_folds)\n",
    "    rmses_test = []\n",
    "    for trainset, testset in train_data.folds():\n",
    "        # train and test algorithm.\n",
    "        algo.train(trainset)\n",
    "        predictions_test = algo.test(testset)\n",
    "        # Compute and print Root Mean Squared Error\n",
    "        rmse_test_k = rmse(predictions_test, verbose=False)\n",
    "        rmses_test.append(rmse_test_k)\n",
    "    rmse_test = np.mean(rmses_test) \n",
    "    return rmse_test\n",
    "\n",
    "params = {'n_factors':100,'n_epochs':20,'lr_all':0.005,'reg_all':0.02,'biased':True} # default\n",
    "lr_all_range = np.arange(0.001,0.01,0.002)#np.linspace(10,30,21)\n",
    "reg_all_range = np.arange(0.02, 0.05,0.005)\n",
    "n_epochs_range = np.arange(30,50,5)\n",
    "n_factors = 100\n",
    "\n",
    "print(lr_all_range)\n",
    "print(reg_all_range)\n",
    "print(n_epochs_range)\n",
    "\n",
    "#def run_simulation(n_factors_range, reg_all_range, n_epochs_range):\n",
    "def run_simulation(lr_all_range, reg_all_range, n_epochs_range):\n",
    "    results_path = '../results/SGD_surprise/'\n",
    "    rmses = np.empty((len(lr_all_range),len(reg_all_range), len(n_epochs_range)))\n",
    "    for i,lr_all in enumerate(lr_all_range):\n",
    "        #print('testing with n_factors={}'.format(n_factors))\n",
    "        print('testing with lr_all={}'.format(lr_all))\n",
    "        for j,reg_all in enumerate(reg_all_range):\n",
    "            print('testing with reg_all={}'.format(reg_all))\n",
    "            for k,n_epochs in enumerate(n_epochs_range):\n",
    "                print('testing with n_epochs={}'.format(n_epochs))\n",
    "                rmses[i,j,k] = evaluate_k_fold(int(n_factors),n_epochs,params['lr_all'],reg_all)\n",
    "                print('rmse={}'.format(rmses[i,j,k]))\n",
    "            #results_name = 'rmse_{}_{}'.format(n_factors, reg_all)\n",
    "            #np.savetxt(results_path + results_name + '.csv', rmses[i,j,:], delimiter=\",\")\n",
    "        np.save('../results/rmse_tmp.csv', rmses)\n",
    "        print('saved for n_factors={}, reg_all={} n_epochs={}'.format(n_factors, reg_all, n_epochs))\n",
    "    return rmses\n",
    "#rmses = run_simulation(n_factors_range, reg_all_range, n_epochs_range)\n",
    "rmses = run_simulation(lr_all_range, reg_all_range, n_epochs_range)"
   ]
  },
  {
   "cell_type": "code",
   "execution_count": 2,
   "metadata": {
    "collapsed": false
   },
   "outputs": [
    {
     "ename": "NameError",
     "evalue": "name 'plt' is not defined",
     "output_type": "error",
     "traceback": [
      "\u001b[0;31m---------------------------------------------------------------------------\u001b[0m",
      "\u001b[0;31mNameError\u001b[0m                                 Traceback (most recent call last)",
      "\u001b[0;32m<ipython-input-2-4b497ecb777e>\u001b[0m in \u001b[0;36m<module>\u001b[0;34m()\u001b[0m\n\u001b[1;32m      1\u001b[0m \u001b[0;32mfrom\u001b[0m \u001b[0mitertools\u001b[0m \u001b[0;32mimport\u001b[0m \u001b[0mcycle\u001b[0m\u001b[0;34m\u001b[0m\u001b[0m\n\u001b[0;32m----> 2\u001b[0;31m \u001b[0mhsv\u001b[0m \u001b[0;34m=\u001b[0m \u001b[0mplt\u001b[0m\u001b[0;34m.\u001b[0m\u001b[0mget_cmap\u001b[0m\u001b[0;34m(\u001b[0m\u001b[0;34m'hsv'\u001b[0m\u001b[0;34m)\u001b[0m\u001b[0;34m\u001b[0m\u001b[0m\n\u001b[0m\u001b[1;32m      3\u001b[0m \u001b[0mcolors\u001b[0m \u001b[0;34m=\u001b[0m \u001b[0mhsv\u001b[0m\u001b[0;34m(\u001b[0m\u001b[0mnp\u001b[0m\u001b[0;34m.\u001b[0m\u001b[0mlinspace\u001b[0m\u001b[0;34m(\u001b[0m\u001b[0;36m0\u001b[0m\u001b[0;34m,\u001b[0m \u001b[0;36m1.0\u001b[0m\u001b[0;34m,\u001b[0m \u001b[0;36m15\u001b[0m\u001b[0;34m)\u001b[0m\u001b[0;34m)\u001b[0m\u001b[0;34m\u001b[0m\u001b[0m\n\u001b[1;32m      4\u001b[0m \u001b[0mmarkers\u001b[0m \u001b[0;34m=\u001b[0m \u001b[0mcycle\u001b[0m\u001b[0;34m(\u001b[0m\u001b[0;34m[\u001b[0m \u001b[0;34m\".\"\u001b[0m\u001b[0;34m,\u001b[0m \u001b[0;34m\",\"\u001b[0m\u001b[0;34m,\u001b[0m \u001b[0;34m\"o\"\u001b[0m\u001b[0;34m,\u001b[0m \u001b[0;34m\"v\"\u001b[0m \u001b[0;34m,\u001b[0m \u001b[0;34m\"^\"\u001b[0m \u001b[0;34m,\u001b[0m \u001b[0;34m\">\"\u001b[0m\u001b[0;34m,\u001b[0m \u001b[0;34m\"1\"\u001b[0m\u001b[0;34m,\u001b[0m \u001b[0;34m\"2\"\u001b[0m\u001b[0;34m,\u001b[0m \u001b[0;34m\"3\"\u001b[0m\u001b[0;34m,\u001b[0m \u001b[0;34m\"4\"\u001b[0m\u001b[0;34m,\u001b[0m \u001b[0;34m\"8\"\u001b[0m\u001b[0;34m,\u001b[0m \u001b[0;34m\"s\"\u001b[0m\u001b[0;34m,\u001b[0m \u001b[0;34m\"p\"\u001b[0m\u001b[0;34m,\u001b[0m \u001b[0;34m\"*\"\u001b[0m\u001b[0;34m,\u001b[0m \u001b[0;34m\"h\"\u001b[0m\u001b[0;34m]\u001b[0m\u001b[0;34m)\u001b[0m\u001b[0;34m\u001b[0m\u001b[0m\n\u001b[1;32m      5\u001b[0m \u001b[0;34m\u001b[0m\u001b[0m\n",
      "\u001b[0;31mNameError\u001b[0m: name 'plt' is not defined"
     ]
    }
   ],
   "source": [
    "from itertools import cycle\n",
    "hsv = plt.get_cmap('hsv')\n",
    "colors = hsv(np.linspace(0, 1.0, 15))\n",
    "markers = cycle([ \".\", \",\", \"o\", \"v\" , \"^\" , \">\", \"1\", \"2\", \"3\", \"4\", \"8\", \"s\", \"p\", \"*\", \"h\"])\n",
    "\n",
    "#print(rmses_clipped.shape)\n",
    "rmses_clipped = np.load('../results/SGD_surprise/rmses_different_lr.npy')\n",
    "results_path = '../results/SGD_surprise/'\n",
    "lr_all = params['lr_all']\n",
    "results_name = 'rmse_{}_{}_{}_{}'.format(n_epochs_range,n_factors_range,lr_all,reg_all_range)\n",
    "#np.save(results_path + results_name, rmses_clipped)\n",
    "#np.savetxt(results_path + results_name + '.csv', rmses_clipped, delimiter=\",\")\n",
    "#test_rmses_clipped = np.loadtxt(results_path + results_name + '.csv', delimiter =',')\n",
    "#assert np.isclose(test_rmses_clipped,rmses_clipped).all()\n",
    "name = '../results/SGD_surprise/rmses.npy'\n",
    "#rmses_clipped = np.load(name)\n",
    "\n",
    "print(rmses_clipped.shape)\n",
    "print(n_factors_range.shape)\n",
    "print(reg_all_range.shape)\n",
    "\n",
    "# Plot results\n",
    "import matplotlib.pyplot as plt\n",
    "\n",
    "num_n_factors = rmses_clipped.shape[0]\n",
    "num_reg_all = rmses_clipped.shape[1]\n",
    "\n",
    "plt.rc('text', usetex=True)\n",
    "plt.rc('font', family='verdana')\n",
    "\n",
    "#for k,n_epochs in enumerate(n_epochs_range):\n",
    "#    results_name = 'rmse_{}_{}_{}_{}'.format(n_epochs,lr_all,n_factors_range,reg_all_range)\n",
    "#    fig = plt.figure()\n",
    "#    for i in range(num_n_factors):\n",
    "#        plt.semilogx(reg_all_range,rmses_clipped[i,:,k],label='$K$={}'.format(n_factors_range[i]))\n",
    "#    plt.xlabel('$\\lambda$')\n",
    "#    plt.ylabel('rmse')\n",
    "#    plt.legend(bbox_to_anchor=(1.05, 1), loc=2, borderaxespad=0.)\n",
    "#    plt.title('n epochs = {}'.format(n_epochs))\n",
    "#    fig.savefig(results_path + 'lambda_' + results_name + '.png')\n",
    "#\n",
    "#    fig = plt.figure()\n",
    "#    for i in range(num_reg_all):\n",
    "#        plt.plot(n_factors_range,rmses_clipped[:,i,k],label='$\\lambda$={:1.4f}'.format(reg_all_range[i]))\n",
    "#    plt.xlabel('$K$')\n",
    "#    plt.ylabel('rmse')\n",
    "#    plt.title('n epochs = {}'.format(n_epochs))\n",
    "#    plt.legend(bbox_to_anchor=(1.05, 1), loc=2, borderaxespad=0.)\n",
    "#    fig.savefig(results_path + 'K_' + results_name + '.png')\n",
    "\n",
    "for i, n_factor in enumerate(n_factors_range):\n",
    "    results_name = 'rmse_{}_{}_{}_{}'.format(n_epochs,lr_all,n_factors_range,reg_all_range)\n",
    "    fig = plt.figure(1)\n",
    "    ax = fig.add_subplot(111)\n",
    "    for k,n_epochs in enumerate(n_epochs_range):\n",
    "        ax.semilogx(reg_all_range,rmses_clipped[i,:,k],label='n epochs={}'.format(n_epochs),color=colors[k],\\\n",
    "               marker=next(markers))\n",
    "    ax.set_xlabel('$\\lambda$')\n",
    "    ax.set_ylabel('rmse')\n",
    "    ax.set_title('K = {}'.format(n_factor))\n",
    "    lgd = plt.legend(bbox_to_anchor=(1.05, 1), loc=2, borderaxespad=0.)\n",
    "    fig.savefig(results_path + 'lambda_' + results_name + '.png', bbox_extra_artists=(lgd,), bbox_inches='tight')\n",
    "\n",
    "    fig = plt.figure(2)\n",
    "    ax = fig.add_subplot(111)\n",
    "    for j in range(num_reg_all):\n",
    "        ax.plot(n_epochs_range,rmses_clipped[i,j,:],label='$\\lambda$={:1.4f}'.format(reg_all_range[j]),color=colors[j],\\\n",
    "               marker=next(markers))\n",
    "    ax.set_xlabel('epochs')\n",
    "    ax.set_ylabel('rmse')\n",
    "    ax.set_title('K = {}'.format(n_factor))\n",
    "    lgd = ax.legend(bbox_to_anchor=(1.05, 1), loc=2, borderaxespad=0.)\n",
    "    fig.savefig(results_path + 'K_' + results_name + '.png', bbox_extra_artists=(lgd,), bbox_inches='tight')\n",
    "\n",
    "#x = np.arange(-2*np.pi, 2*np.pi, 0.1)\n",
    "#ax.plot(x, np.sin(x), label='Sine')\n",
    "#ax.plot(x, np.cos(x), label='Cosine')\n",
    "#ax.plot(x, np.arctan(x), label='Inverse tan')\n",
    "#handles, labels = ax.get_legend_handles_labels()\n",
    "#lgd = ax.legend(handles, labels, loc='upper center', bbox_to_anchor=(0.5,-0.1))\n",
    "#ax.grid('on')\n",
    "#fig.savefig('samplefigure', bbox_extra_artists=(lgd,), bbox_inches='tight') \n",
    "#np.savetxt(results_path + results_name + '.csv', rmses_clipped, delimiter=\",\")\n",
    "#test_rmses_clipped = np.loadtxt(results_path + results_name + '.csv', delimiter =',')\n",
    "#assert np.isclose(test_rmses_clipped,rmses_clipped).all()"
   ]
  },
  {
   "cell_type": "markdown",
   "metadata": {},
   "source": [
    "##  Train on whole data"
   ]
  },
  {
   "cell_type": "code",
   "execution_count": 21,
   "metadata": {
    "collapsed": true
   },
   "outputs": [],
   "source": [
    "# load data\n",
    "from surprise import Dataset, Reader\n",
    "fold_reader = Reader(line_format='item rating user', sep=',',skip_lines=1) \n",
    "# fold_files = [(train_set, test_set)]\n",
    "fold_files = [('../data/data_train_surprise.csv', '../data/sampleSubmission_surprise.csv')]\n",
    "fold_data = Dataset.load_from_folds(fold_files, reader=fold_reader)"
   ]
  },
  {
   "cell_type": "code",
   "execution_count": 22,
   "metadata": {
    "collapsed": false
   },
   "outputs": [
    {
     "name": "stdout",
     "output_type": "stream",
     "text": [
      "training SVD...\n",
      "testing SVD...\n",
      "The dump has been saved as file ../results/dump_SVD\n"
     ]
    }
   ],
   "source": [
    "# train algorithm.\n",
    "from surprise import SVD\n",
    "from surprise.accuracy import rmse\n",
    "from surprise.dump import dump\n",
    "\n",
    "algo = SVD(n_factors=params['n_factors'],n_epochs=params['n_epochs'],lr_all=params['lr_all'],reg_all=params['reg_all'])\n",
    "for (trainset, testset) in fold_data.folds():\n",
    "    print('training SVD...')\n",
    "    algo.train(trainset)\n",
    "    print('testing SVD...')\n",
    "    predictions_svd = algo.test(testset)\n",
    "    #rmse(predictions_svd)\n",
    "    dump('../results/dump_SVD', predictions_svd, trainset, algo)"
   ]
  },
  {
   "cell_type": "markdown",
   "metadata": {},
   "source": [
    "## Save submission"
   ]
  },
  {
   "cell_type": "code",
   "execution_count": 23,
   "metadata": {
    "collapsed": false
   },
   "outputs": [
    {
     "name": "stdout",
     "output_type": "stream",
     "text": [
      "Raw: \n",
      "   uid  iid  rui       est                    details\n",
      "0   1   37  3.0  3.404940  {'was_impossible': False}\n",
      "1   1   73  3.0  2.977539  {'was_impossible': False}\n",
      "2   1  156  3.0  3.727564  {'was_impossible': False}\n",
      "3   1  160  3.0  3.215529  {'was_impossible': False}\n",
      "4   1  248  3.0  3.509638  {'was_impossible': False}\n"
     ]
    }
   ],
   "source": [
    "# create correct format\n",
    "def create_submission_dataframe(df_simple):\n",
    "    #df_svd['err'] = abs(df_svd.est - df_svd.est.round())\n",
    "    #print(df_svd.where(df_svd['err']<0.001))\n",
    "    #if (df_svd['err']<0.001):\n",
    "        #df_svd['est'] = df_svd['est'].round()\n",
    "    #print(df_svd.where(df_svd['err']<0.001))\n",
    "    print('Raw: \\n',df_simple.head())\n",
    "    df_simple[\"Id\"] = \"r\" + df_simple[\"iid\"].map(str) + \"_c\" +df_simple[\"uid\"].map(str)\n",
    "    df_simple[\"Prediction\"] = df_simple[\"est\"].clip(0,5)\n",
    "    df_submission = df_simple.drop([\"iid\",\"uid\",\"est\",\"details\",\"rui\"],1)\n",
    "    print('Submission: \\n',df_submission.head()) \n",
    "    return df_submission"
   ]
  },
  {
   "cell_type": "code",
   "execution_count": 24,
   "metadata": {
    "collapsed": false
   },
   "outputs": [
    {
     "name": "stdout",
     "output_type": "stream",
     "text": [
      "Submission: \n",
      "         Id  Prediction\n",
      "0   r37_c1    3.404940\n",
      "1   r73_c1    2.977539\n",
      "2  r156_c1    3.727564\n",
      "3  r160_c1    3.215529\n",
      "4  r248_c1    3.509638\n"
     ]
    }
   ],
   "source": [
    "import pickle\n",
    "import pandas as pd\n",
    "dump_obj_svd = pickle.load(open('../results/dump_SVD', 'rb'))\n",
    "df_svd = pd.DataFrame(dump_obj_svd['predictions'], columns=['uid', 'iid', 'rui', 'est', 'details'])    \n",
    "df_svd_submission = create_submission_dataframe(df_svd)\n",
    "\n",
    "# save submission\n",
    "output_path = '../results/submission_surprise.csv'\n",
    "df_svd_new.to_csv(output_path,columns=[\"Id\",\"Prediction\"],index=False)\n",
    "print('Submission: \\n',df_svd_new.head())"
   ]
  },
  {
   "cell_type": "code",
   "execution_count": 30,
   "metadata": {
    "collapsed": false
   },
   "outputs": [
    {
     "name": "stdout",
     "output_type": "stream",
     "text": [
      "training SVD...\n",
      "testing SVD...\n",
      "The dump has been saved as file ../results/dump_SVD_full\n",
      "Raw: \n",
      "   uid iid  rui       est                    details\n",
      "0   1  44  4.0  3.551753  {'was_impossible': False}\n",
      "1   1  61  3.0  3.767399  {'was_impossible': False}\n",
      "2   1  67  4.0  2.950493  {'was_impossible': False}\n",
      "3   1  72  3.0  3.443151  {'was_impossible': False}\n",
      "4   1  86  5.0  3.504326  {'was_impossible': False}\n",
      "Submission: \n",
      "        Id  Prediction\n",
      "0  r44_c1    3.551753\n",
      "1  r61_c1    3.767399\n",
      "2  r67_c1    2.950493\n",
      "3  r72_c1    3.443151\n",
      "4  r86_c1    3.504326\n"
     ]
    }
   ],
   "source": [
    "## Save ratings matrix for all training entries\n",
    "from surprise import Dataset, Reader\n",
    "fold_reader = Reader(line_format='item rating user', sep=',',skip_lines=1) \n",
    "# fold_files = [(train_set, test_set)]\n",
    "fold_files = [('../data/data_train_surprise.csv', '../data/data_train_surprise.csv')]\n",
    "fold_data = Dataset.load_from_folds(fold_files, reader=fold_reader)\n",
    "from surprise import SVD\n",
    "from surprise.accuracy import rmse\n",
    "from surprise.dump import dump\n",
    "for (trainset, testset) in fold_data.folds():\n",
    "    print('testing SVD on full dataset...')\n",
    "    predictions_svd = algo.test(testset)\n",
    "    print('rmse:',rmse(predictions_svd))\n",
    "import pandas as pd\n",
    "df_svd = pd.DataFrame(predictions, columns=['uid', 'iid', 'rui', 'est', 'details'])    \n",
    "\n",
    "df_submission = \n",
    "# save matrix\n",
    "output_path = '../results/submission_surprise_full.csv'\n",
    "df_submission.to_csv(output_path,columns=[\"Id\",\"Prediction\"],index=False)"
   ]
  },
  {
   "cell_type": "code",
   "execution_count": 57,
   "metadata": {
    "collapsed": false
   },
   "outputs": [
    {
     "ename": "AttributeError",
     "evalue": "'numpy.ndarray' object has no attribute 'write'",
     "output_type": "error",
     "traceback": [
      "\u001b[0;31m---------------------------------------------------------------------------\u001b[0m",
      "\u001b[0;31mAttributeError\u001b[0m                            Traceback (most recent call last)",
      "\u001b[0;32m<ipython-input-57-66d43b2a2db0>\u001b[0m in \u001b[0;36m<module>\u001b[0;34m()\u001b[0m\n\u001b[0;32m----> 1\u001b[0;31m \u001b[0mnp\u001b[0m\u001b[0;34m.\u001b[0m\u001b[0msave\u001b[0m\u001b[0;34m(\u001b[0m\u001b[0mrmses\u001b[0m\u001b[0;34m,\u001b[0m\u001b[0;34m'../results/SGD_surprise/rmses_different_lr'\u001b[0m\u001b[0;34m)\u001b[0m\u001b[0;34m\u001b[0m\u001b[0m\n\u001b[0m",
      "\u001b[0;32m/home/kiki/anaconda3/lib/python3.5/site-packages/numpy/lib/npyio.py\u001b[0m in \u001b[0;36msave\u001b[0;34m(file, arr, allow_pickle, fix_imports)\u001b[0m\n\u001b[1;32m    489\u001b[0m         \u001b[0marr\u001b[0m \u001b[0;34m=\u001b[0m \u001b[0mnp\u001b[0m\u001b[0;34m.\u001b[0m\u001b[0masanyarray\u001b[0m\u001b[0;34m(\u001b[0m\u001b[0marr\u001b[0m\u001b[0;34m)\u001b[0m\u001b[0;34m\u001b[0m\u001b[0m\n\u001b[1;32m    490\u001b[0m         format.write_array(fid, arr, allow_pickle=allow_pickle,\n\u001b[0;32m--> 491\u001b[0;31m                            pickle_kwargs=pickle_kwargs)\n\u001b[0m\u001b[1;32m    492\u001b[0m     \u001b[0;32mfinally\u001b[0m\u001b[0;34m:\u001b[0m\u001b[0;34m\u001b[0m\u001b[0m\n\u001b[1;32m    493\u001b[0m         \u001b[0;32mif\u001b[0m \u001b[0mown_fid\u001b[0m\u001b[0;34m:\u001b[0m\u001b[0;34m\u001b[0m\u001b[0m\n",
      "\u001b[0;32m/home/kiki/anaconda3/lib/python3.5/site-packages/numpy/lib/format.py\u001b[0m in \u001b[0;36mwrite_array\u001b[0;34m(fp, array, version, allow_pickle, pickle_kwargs)\u001b[0m\n\u001b[1;32m    553\u001b[0m     \u001b[0m_check_version\u001b[0m\u001b[0;34m(\u001b[0m\u001b[0mversion\u001b[0m\u001b[0;34m)\u001b[0m\u001b[0;34m\u001b[0m\u001b[0m\n\u001b[1;32m    554\u001b[0m     used_ver = _write_array_header(fp, header_data_from_array_1_0(array),\n\u001b[0;32m--> 555\u001b[0;31m                                    version)\n\u001b[0m\u001b[1;32m    556\u001b[0m     \u001b[0;31m# this warning can be removed when 1.9 has aged enough\u001b[0m\u001b[0;34m\u001b[0m\u001b[0;34m\u001b[0m\u001b[0m\n\u001b[1;32m    557\u001b[0m     \u001b[0;32mif\u001b[0m \u001b[0mversion\u001b[0m \u001b[0;34m!=\u001b[0m \u001b[0;34m(\u001b[0m\u001b[0;36m2\u001b[0m\u001b[0;34m,\u001b[0m \u001b[0;36m0\u001b[0m\u001b[0;34m)\u001b[0m \u001b[0;32mand\u001b[0m \u001b[0mused_ver\u001b[0m \u001b[0;34m==\u001b[0m \u001b[0;34m(\u001b[0m\u001b[0;36m2\u001b[0m\u001b[0;34m,\u001b[0m \u001b[0;36m0\u001b[0m\u001b[0;34m)\u001b[0m\u001b[0;34m:\u001b[0m\u001b[0;34m\u001b[0m\u001b[0m\n",
      "\u001b[0;32m/home/kiki/anaconda3/lib/python3.5/site-packages/numpy/lib/format.py\u001b[0m in \u001b[0;36m_write_array_header\u001b[0;34m(fp, d, version)\u001b[0m\n\u001b[1;32m    326\u001b[0m         \u001b[0;32mraise\u001b[0m \u001b[0mValueError\u001b[0m\u001b[0;34m(\u001b[0m\u001b[0mmsg\u001b[0m\u001b[0;34m)\u001b[0m\u001b[0;34m\u001b[0m\u001b[0m\n\u001b[1;32m    327\u001b[0m \u001b[0;34m\u001b[0m\u001b[0m\n\u001b[0;32m--> 328\u001b[0;31m     \u001b[0mfp\u001b[0m\u001b[0;34m.\u001b[0m\u001b[0mwrite\u001b[0m\u001b[0;34m(\u001b[0m\u001b[0mheader_prefix\u001b[0m\u001b[0;34m)\u001b[0m\u001b[0;34m\u001b[0m\u001b[0m\n\u001b[0m\u001b[1;32m    329\u001b[0m     \u001b[0mfp\u001b[0m\u001b[0;34m.\u001b[0m\u001b[0mwrite\u001b[0m\u001b[0;34m(\u001b[0m\u001b[0mheader\u001b[0m\u001b[0;34m)\u001b[0m\u001b[0;34m\u001b[0m\u001b[0m\n\u001b[1;32m    330\u001b[0m     \u001b[0;32mreturn\u001b[0m \u001b[0mversion\u001b[0m\u001b[0;34m\u001b[0m\u001b[0m\n",
      "\u001b[0;31mAttributeError\u001b[0m: 'numpy.ndarray' object has no attribute 'write'"
     ]
    }
   ],
   "source": [
    "np.save('../results/SGD_surprise/rmses_different_lr', rmses)"
   ]
  },
  {
   "cell_type": "code",
   "execution_count": null,
   "metadata": {
    "collapsed": true
   },
   "outputs": [],
   "source": []
  }
 ],
 "metadata": {
  "anaconda-cloud": {},
  "kernelspec": {
   "display_name": "Python [default]",
   "language": "python",
   "name": "python3"
  },
  "language_info": {
   "codemirror_mode": {
    "name": "ipython",
    "version": 3
   },
   "file_extension": ".py",
   "mimetype": "text/x-python",
   "name": "python",
   "nbconvert_exporter": "python",
   "pygments_lexer": "ipython3",
   "version": "3.5.2"
  }
 },
 "nbformat": 4,
 "nbformat_minor": 1
}
